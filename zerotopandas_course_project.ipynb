{
  "nbformat": 4,
  "nbformat_minor": 0,
  "metadata": {
    "kernelspec": {
      "display_name": "Python 3",
      "language": "python",
      "name": "python3"
    },
    "language_info": {
      "codemirror_mode": {
        "name": "ipython",
        "version": 3
      },
      "file_extension": ".py",
      "mimetype": "text/x-python",
      "name": "python",
      "nbconvert_exporter": "python",
      "pygments_lexer": "ipython3",
      "version": "3.8.6"
    },
    "colab": {
      "name": "zerotopandas-course-project.ipynb",
      "provenance": [],
      "include_colab_link": true
    }
  },
  "cells": [
    {
      "cell_type": "markdown",
      "metadata": {
        "id": "view-in-github",
        "colab_type": "text"
      },
      "source": [
        "<a href=\"https://colab.research.google.com/github/sinhaabhiraj0/Data-Analysis/blob/main/zerotopandas_course_project.ipynb\" target=\"_parent\"><img src=\"https://colab.research.google.com/assets/colab-badge.svg\" alt=\"Open In Colab\"/></a>"
      ]
    },
    {
      "cell_type": "code",
      "metadata": {
        "id": "qzTjYxUqZdjJ"
      },
      "source": [
        "# Jovian Commit Essentials\n",
        "# Please retain and execute this cell without modifying the contents for `jovian.commit` to work\n",
        "!pip install jovian --upgrade -q\n",
        "import jovian\n",
        "jovian.set_project('zerotopandas-course-project-starter')\n",
        "jovian.set_colab_id('1TLrC_0NLHlpmvFA68rmqjOJjhq0fXJr8')"
      ],
      "execution_count": null,
      "outputs": []
    },
    {
      "cell_type": "markdown",
      "metadata": {
        "id": "8OAMNnXYZdjM"
      },
      "source": [
        "# IPL Data Analysis(2008-2019)\n",
        "\n",
        "Indian Premier League (IPL) is a Twenty20 cricket format league in India. It is usually played in April and May every year. The league was founded by Board of Control for Cricket India (BCCI) in 2008. There have been twelve seasons of the IPL tournament. The current IPL title holders are the Mumbai Indians, who won the 2019 season.\n",
        "\n",
        "The dataset has been downloaded from [Kaggle Dataset](https://www.kaggle.com/nowke9/ipldata). The dataset contains two csv files but only one csv file i.e matches.csv has been used in this project for the analysis. The libraries for data analysis and visualization used in this project are Numpy, Pandas, Matplotlib and Seaborn. These libraries are covered in the course by  [Jovian.ml](https://jovian.ml) named as [Data Analysis with Python: Zero to Pandas](https://jovian.ml/learn/data-analysis-with-python-zero-to-pandas). \n",
        "\n",
        "As a first step, let's upload our Jupyter notebook to [Jovian.ml](https://jovian.ml)."
      ]
    },
    {
      "cell_type": "code",
      "metadata": {
        "id": "JpHvhHPqZdjM"
      },
      "source": [
        "project_name = \"zerotopandas-course-project-starter\" # change this (use lowercase letters and hyphens only)"
      ],
      "execution_count": null,
      "outputs": []
    },
    {
      "cell_type": "code",
      "metadata": {
        "id": "2Uo2glXgZdjN"
      },
      "source": [
        "!pip install jovian --upgrade -q"
      ],
      "execution_count": null,
      "outputs": []
    },
    {
      "cell_type": "code",
      "metadata": {
        "id": "6huLpbhpZdjN"
      },
      "source": [
        "import jovian"
      ],
      "execution_count": null,
      "outputs": []
    },
    {
      "cell_type": "code",
      "metadata": {
        "id": "o4eDJgtGZdjN",
        "outputId": "b438c54c-ca7c-46a2-f616-3c64d42d0f12"
      },
      "source": [
        "jovian.commit(project=project_name)"
      ],
      "execution_count": null,
      "outputs": [
        {
          "output_type": "display_data",
          "data": {
            "application/javascript": [
              "window.require && require([\"base/js/namespace\"],function(Jupyter){Jupyter.notebook.save_checkpoint()})"
            ],
            "text/plain": [
              "<IPython.core.display.Javascript object>"
            ]
          },
          "metadata": {
            "tags": []
          }
        }
      ]
    },
    {
      "cell_type": "markdown",
      "metadata": {
        "id": "faimUqmaZdjO"
      },
      "source": [
        "## Section-1: Data Preparation and Cleaning\n",
        "\n",
        "In this step we will perform the following process:\n",
        "1. Install and import the upgraded version of all libraries to be used in the project\n",
        "2. Analyse the dataset available with us\n",
        "3. Find the missing data, if possible\n",
        "4. Reason of missing data"
      ]
    },
    {
      "cell_type": "code",
      "metadata": {
        "id": "dUzRrsyQZdjP",
        "outputId": "83f14d66-d4df-4586-c1b9-d8aa2bca70d3"
      },
      "source": [
        "#Download the data set\n",
        "!pip install jovian opendatasets --upgrade --quiet\n",
        "dataset_url = 'https://www.kaggle.com/nowke9/ipldata'\n",
        "import opendatasets as od\n",
        "od.download(dataset_url)"
      ],
      "execution_count": null,
      "outputs": [
        {
          "output_type": "stream",
          "text": [
            "Please provide your Kaggle credentials to download this dataset. Learn more: http://bit.ly/kaggle-creds\n",
            "Your Kaggle username: abhirajsinha0\n",
            "Your Kaggle Key: ········\n"
          ],
          "name": "stdout"
        },
        {
          "output_type": "stream",
          "text": [
            "100%|██████████| 1.20M/1.20M [00:00<00:00, 18.2MB/s]"
          ],
          "name": "stderr"
        },
        {
          "output_type": "stream",
          "text": [
            "Downloading ipldata.zip to ./ipldata\n",
            "\n"
          ],
          "name": "stdout"
        },
        {
          "output_type": "stream",
          "text": [
            "\n"
          ],
          "name": "stderr"
        }
      ]
    },
    {
      "cell_type": "code",
      "metadata": {
        "id": "_SRSl-UdZdjP",
        "outputId": "dcd2a5d7-152c-470a-d44e-a6b0081ab0a2"
      },
      "source": [
        "# View names of file in ipldata di\n",
        "data_dir = './ipldata'\n",
        "import os\n",
        "os.listdir(data_dir)"
      ],
      "execution_count": null,
      "outputs": [
        {
          "output_type": "execute_result",
          "data": {
            "text/plain": [
              "['deliveries.csv', 'matches.csv']"
            ]
          },
          "metadata": {
            "tags": []
          },
          "execution_count": 2
        }
      ]
    },
    {
      "cell_type": "code",
      "metadata": {
        "id": "M34_dx7kZdjQ"
      },
      "source": [
        "#Installing the upgraded version of all libraries\n",
        "!pip install numpy pandas matplotlib seaborn --upgrade --quiet"
      ],
      "execution_count": null,
      "outputs": []
    },
    {
      "cell_type": "code",
      "metadata": {
        "id": "bOHGYk0-ZdjQ"
      },
      "source": [
        "#Importing the libraries\n",
        "import numpy as np\n",
        "import pandas as pd\n",
        "import matplotlib\n",
        "import matplotlib.pyplot as plt\n",
        "import seaborn as sns"
      ],
      "execution_count": null,
      "outputs": []
    },
    {
      "cell_type": "code",
      "metadata": {
        "id": "IKVisZxFZdjQ"
      },
      "source": [
        "#Global Settings\n",
        "matplotlib.rcParams['font.size'] = 14\n",
        "matplotlib.rcParams['figure.figsize'] = (15, 7.5)\n",
        "matplotlib.rcParams['figure.facecolor'] = '#00000000'\n",
        "sns.set_style(\"darkgrid\")"
      ],
      "execution_count": null,
      "outputs": []
    },
    {
      "cell_type": "code",
      "metadata": {
        "id": "HCFZKrBNZdjR"
      },
      "source": [
        "#Reading the matches.csv into matches_df dataframe\n",
        "matches_df = pd.read_csv('./ipldata/matches.csv')"
      ],
      "execution_count": null,
      "outputs": []
    },
    {
      "cell_type": "code",
      "metadata": {
        "id": "yGCqDOg4ZdjR",
        "outputId": "eaa33b49-0ae0-4aef-ef7a-c7497af25219"
      },
      "source": [
        "#showing matches_df\n",
        "matches_df"
      ],
      "execution_count": null,
      "outputs": [
        {
          "output_type": "execute_result",
          "data": {
            "text/html": [
              "<div>\n",
              "<style scoped>\n",
              "    .dataframe tbody tr th:only-of-type {\n",
              "        vertical-align: middle;\n",
              "    }\n",
              "\n",
              "    .dataframe tbody tr th {\n",
              "        vertical-align: top;\n",
              "    }\n",
              "\n",
              "    .dataframe thead th {\n",
              "        text-align: right;\n",
              "    }\n",
              "</style>\n",
              "<table border=\"1\" class=\"dataframe\">\n",
              "  <thead>\n",
              "    <tr style=\"text-align: right;\">\n",
              "      <th></th>\n",
              "      <th>id</th>\n",
              "      <th>season</th>\n",
              "      <th>city</th>\n",
              "      <th>date</th>\n",
              "      <th>team1</th>\n",
              "      <th>team2</th>\n",
              "      <th>toss_winner</th>\n",
              "      <th>toss_decision</th>\n",
              "      <th>result</th>\n",
              "      <th>dl_applied</th>\n",
              "      <th>winner</th>\n",
              "      <th>win_by_runs</th>\n",
              "      <th>win_by_wickets</th>\n",
              "      <th>player_of_match</th>\n",
              "      <th>venue</th>\n",
              "      <th>umpire1</th>\n",
              "      <th>umpire2</th>\n",
              "      <th>umpire3</th>\n",
              "    </tr>\n",
              "  </thead>\n",
              "  <tbody>\n",
              "    <tr>\n",
              "      <th>0</th>\n",
              "      <td>1</td>\n",
              "      <td>2017</td>\n",
              "      <td>Hyderabad</td>\n",
              "      <td>2017-04-05</td>\n",
              "      <td>Sunrisers Hyderabad</td>\n",
              "      <td>Royal Challengers Bangalore</td>\n",
              "      <td>Royal Challengers Bangalore</td>\n",
              "      <td>field</td>\n",
              "      <td>normal</td>\n",
              "      <td>0</td>\n",
              "      <td>Sunrisers Hyderabad</td>\n",
              "      <td>35</td>\n",
              "      <td>0</td>\n",
              "      <td>Yuvraj Singh</td>\n",
              "      <td>Rajiv Gandhi International Stadium, Uppal</td>\n",
              "      <td>AY Dandekar</td>\n",
              "      <td>NJ Llong</td>\n",
              "      <td>NaN</td>\n",
              "    </tr>\n",
              "    <tr>\n",
              "      <th>1</th>\n",
              "      <td>2</td>\n",
              "      <td>2017</td>\n",
              "      <td>Pune</td>\n",
              "      <td>2017-04-06</td>\n",
              "      <td>Mumbai Indians</td>\n",
              "      <td>Rising Pune Supergiant</td>\n",
              "      <td>Rising Pune Supergiant</td>\n",
              "      <td>field</td>\n",
              "      <td>normal</td>\n",
              "      <td>0</td>\n",
              "      <td>Rising Pune Supergiant</td>\n",
              "      <td>0</td>\n",
              "      <td>7</td>\n",
              "      <td>SPD Smith</td>\n",
              "      <td>Maharashtra Cricket Association Stadium</td>\n",
              "      <td>A Nand Kishore</td>\n",
              "      <td>S Ravi</td>\n",
              "      <td>NaN</td>\n",
              "    </tr>\n",
              "    <tr>\n",
              "      <th>2</th>\n",
              "      <td>3</td>\n",
              "      <td>2017</td>\n",
              "      <td>Rajkot</td>\n",
              "      <td>2017-04-07</td>\n",
              "      <td>Gujarat Lions</td>\n",
              "      <td>Kolkata Knight Riders</td>\n",
              "      <td>Kolkata Knight Riders</td>\n",
              "      <td>field</td>\n",
              "      <td>normal</td>\n",
              "      <td>0</td>\n",
              "      <td>Kolkata Knight Riders</td>\n",
              "      <td>0</td>\n",
              "      <td>10</td>\n",
              "      <td>CA Lynn</td>\n",
              "      <td>Saurashtra Cricket Association Stadium</td>\n",
              "      <td>Nitin Menon</td>\n",
              "      <td>CK Nandan</td>\n",
              "      <td>NaN</td>\n",
              "    </tr>\n",
              "    <tr>\n",
              "      <th>3</th>\n",
              "      <td>4</td>\n",
              "      <td>2017</td>\n",
              "      <td>Indore</td>\n",
              "      <td>2017-04-08</td>\n",
              "      <td>Rising Pune Supergiant</td>\n",
              "      <td>Kings XI Punjab</td>\n",
              "      <td>Kings XI Punjab</td>\n",
              "      <td>field</td>\n",
              "      <td>normal</td>\n",
              "      <td>0</td>\n",
              "      <td>Kings XI Punjab</td>\n",
              "      <td>0</td>\n",
              "      <td>6</td>\n",
              "      <td>GJ Maxwell</td>\n",
              "      <td>Holkar Cricket Stadium</td>\n",
              "      <td>AK Chaudhary</td>\n",
              "      <td>C Shamshuddin</td>\n",
              "      <td>NaN</td>\n",
              "    </tr>\n",
              "    <tr>\n",
              "      <th>4</th>\n",
              "      <td>5</td>\n",
              "      <td>2017</td>\n",
              "      <td>Bangalore</td>\n",
              "      <td>2017-04-08</td>\n",
              "      <td>Royal Challengers Bangalore</td>\n",
              "      <td>Delhi Daredevils</td>\n",
              "      <td>Royal Challengers Bangalore</td>\n",
              "      <td>bat</td>\n",
              "      <td>normal</td>\n",
              "      <td>0</td>\n",
              "      <td>Royal Challengers Bangalore</td>\n",
              "      <td>15</td>\n",
              "      <td>0</td>\n",
              "      <td>KM Jadhav</td>\n",
              "      <td>M Chinnaswamy Stadium</td>\n",
              "      <td>NaN</td>\n",
              "      <td>NaN</td>\n",
              "      <td>NaN</td>\n",
              "    </tr>\n",
              "    <tr>\n",
              "      <th>...</th>\n",
              "      <td>...</td>\n",
              "      <td>...</td>\n",
              "      <td>...</td>\n",
              "      <td>...</td>\n",
              "      <td>...</td>\n",
              "      <td>...</td>\n",
              "      <td>...</td>\n",
              "      <td>...</td>\n",
              "      <td>...</td>\n",
              "      <td>...</td>\n",
              "      <td>...</td>\n",
              "      <td>...</td>\n",
              "      <td>...</td>\n",
              "      <td>...</td>\n",
              "      <td>...</td>\n",
              "      <td>...</td>\n",
              "      <td>...</td>\n",
              "      <td>...</td>\n",
              "    </tr>\n",
              "    <tr>\n",
              "      <th>751</th>\n",
              "      <td>11347</td>\n",
              "      <td>2019</td>\n",
              "      <td>Mumbai</td>\n",
              "      <td>05/05/19</td>\n",
              "      <td>Kolkata Knight Riders</td>\n",
              "      <td>Mumbai Indians</td>\n",
              "      <td>Mumbai Indians</td>\n",
              "      <td>field</td>\n",
              "      <td>normal</td>\n",
              "      <td>0</td>\n",
              "      <td>Mumbai Indians</td>\n",
              "      <td>0</td>\n",
              "      <td>9</td>\n",
              "      <td>HH Pandya</td>\n",
              "      <td>Wankhede Stadium</td>\n",
              "      <td>Nanda Kishore</td>\n",
              "      <td>O Nandan</td>\n",
              "      <td>S Ravi</td>\n",
              "    </tr>\n",
              "    <tr>\n",
              "      <th>752</th>\n",
              "      <td>11412</td>\n",
              "      <td>2019</td>\n",
              "      <td>Chennai</td>\n",
              "      <td>07/05/19</td>\n",
              "      <td>Chennai Super Kings</td>\n",
              "      <td>Mumbai Indians</td>\n",
              "      <td>Chennai Super Kings</td>\n",
              "      <td>bat</td>\n",
              "      <td>normal</td>\n",
              "      <td>0</td>\n",
              "      <td>Mumbai Indians</td>\n",
              "      <td>0</td>\n",
              "      <td>6</td>\n",
              "      <td>AS Yadav</td>\n",
              "      <td>M. A. Chidambaram Stadium</td>\n",
              "      <td>Nigel Llong</td>\n",
              "      <td>Nitin Menon</td>\n",
              "      <td>Ian Gould</td>\n",
              "    </tr>\n",
              "    <tr>\n",
              "      <th>753</th>\n",
              "      <td>11413</td>\n",
              "      <td>2019</td>\n",
              "      <td>Visakhapatnam</td>\n",
              "      <td>08/05/19</td>\n",
              "      <td>Sunrisers Hyderabad</td>\n",
              "      <td>Delhi Capitals</td>\n",
              "      <td>Delhi Capitals</td>\n",
              "      <td>field</td>\n",
              "      <td>normal</td>\n",
              "      <td>0</td>\n",
              "      <td>Delhi Capitals</td>\n",
              "      <td>0</td>\n",
              "      <td>2</td>\n",
              "      <td>RR Pant</td>\n",
              "      <td>ACA-VDCA Stadium</td>\n",
              "      <td>NaN</td>\n",
              "      <td>NaN</td>\n",
              "      <td>NaN</td>\n",
              "    </tr>\n",
              "    <tr>\n",
              "      <th>754</th>\n",
              "      <td>11414</td>\n",
              "      <td>2019</td>\n",
              "      <td>Visakhapatnam</td>\n",
              "      <td>10/05/19</td>\n",
              "      <td>Delhi Capitals</td>\n",
              "      <td>Chennai Super Kings</td>\n",
              "      <td>Chennai Super Kings</td>\n",
              "      <td>field</td>\n",
              "      <td>normal</td>\n",
              "      <td>0</td>\n",
              "      <td>Chennai Super Kings</td>\n",
              "      <td>0</td>\n",
              "      <td>6</td>\n",
              "      <td>F du Plessis</td>\n",
              "      <td>ACA-VDCA Stadium</td>\n",
              "      <td>Sundaram Ravi</td>\n",
              "      <td>Bruce Oxenford</td>\n",
              "      <td>Chettithody Shamshuddin</td>\n",
              "    </tr>\n",
              "    <tr>\n",
              "      <th>755</th>\n",
              "      <td>11415</td>\n",
              "      <td>2019</td>\n",
              "      <td>Hyderabad</td>\n",
              "      <td>12/05/19</td>\n",
              "      <td>Mumbai Indians</td>\n",
              "      <td>Chennai Super Kings</td>\n",
              "      <td>Mumbai Indians</td>\n",
              "      <td>bat</td>\n",
              "      <td>normal</td>\n",
              "      <td>0</td>\n",
              "      <td>Mumbai Indians</td>\n",
              "      <td>1</td>\n",
              "      <td>0</td>\n",
              "      <td>JJ Bumrah</td>\n",
              "      <td>Rajiv Gandhi Intl. Cricket Stadium</td>\n",
              "      <td>Nitin Menon</td>\n",
              "      <td>Ian Gould</td>\n",
              "      <td>Nigel Llong</td>\n",
              "    </tr>\n",
              "  </tbody>\n",
              "</table>\n",
              "<p>756 rows × 18 columns</p>\n",
              "</div>"
            ],
            "text/plain": [
              "        id  season           city        date                        team1  \\\n",
              "0        1    2017      Hyderabad  2017-04-05          Sunrisers Hyderabad   \n",
              "1        2    2017           Pune  2017-04-06               Mumbai Indians   \n",
              "2        3    2017         Rajkot  2017-04-07                Gujarat Lions   \n",
              "3        4    2017         Indore  2017-04-08       Rising Pune Supergiant   \n",
              "4        5    2017      Bangalore  2017-04-08  Royal Challengers Bangalore   \n",
              "..     ...     ...            ...         ...                          ...   \n",
              "751  11347    2019         Mumbai    05/05/19        Kolkata Knight Riders   \n",
              "752  11412    2019        Chennai    07/05/19          Chennai Super Kings   \n",
              "753  11413    2019  Visakhapatnam    08/05/19          Sunrisers Hyderabad   \n",
              "754  11414    2019  Visakhapatnam    10/05/19               Delhi Capitals   \n",
              "755  11415    2019      Hyderabad    12/05/19               Mumbai Indians   \n",
              "\n",
              "                           team2                  toss_winner toss_decision  \\\n",
              "0    Royal Challengers Bangalore  Royal Challengers Bangalore         field   \n",
              "1         Rising Pune Supergiant       Rising Pune Supergiant         field   \n",
              "2          Kolkata Knight Riders        Kolkata Knight Riders         field   \n",
              "3                Kings XI Punjab              Kings XI Punjab         field   \n",
              "4               Delhi Daredevils  Royal Challengers Bangalore           bat   \n",
              "..                           ...                          ...           ...   \n",
              "751               Mumbai Indians               Mumbai Indians         field   \n",
              "752               Mumbai Indians          Chennai Super Kings           bat   \n",
              "753               Delhi Capitals               Delhi Capitals         field   \n",
              "754          Chennai Super Kings          Chennai Super Kings         field   \n",
              "755          Chennai Super Kings               Mumbai Indians           bat   \n",
              "\n",
              "     result  dl_applied                       winner  win_by_runs  \\\n",
              "0    normal           0          Sunrisers Hyderabad           35   \n",
              "1    normal           0       Rising Pune Supergiant            0   \n",
              "2    normal           0        Kolkata Knight Riders            0   \n",
              "3    normal           0              Kings XI Punjab            0   \n",
              "4    normal           0  Royal Challengers Bangalore           15   \n",
              "..      ...         ...                          ...          ...   \n",
              "751  normal           0               Mumbai Indians            0   \n",
              "752  normal           0               Mumbai Indians            0   \n",
              "753  normal           0               Delhi Capitals            0   \n",
              "754  normal           0          Chennai Super Kings            0   \n",
              "755  normal           0               Mumbai Indians            1   \n",
              "\n",
              "     win_by_wickets player_of_match  \\\n",
              "0                 0    Yuvraj Singh   \n",
              "1                 7       SPD Smith   \n",
              "2                10         CA Lynn   \n",
              "3                 6      GJ Maxwell   \n",
              "4                 0       KM Jadhav   \n",
              "..              ...             ...   \n",
              "751               9       HH Pandya   \n",
              "752               6        AS Yadav   \n",
              "753               2         RR Pant   \n",
              "754               6    F du Plessis   \n",
              "755               0       JJ Bumrah   \n",
              "\n",
              "                                         venue         umpire1  \\\n",
              "0    Rajiv Gandhi International Stadium, Uppal     AY Dandekar   \n",
              "1      Maharashtra Cricket Association Stadium  A Nand Kishore   \n",
              "2       Saurashtra Cricket Association Stadium     Nitin Menon   \n",
              "3                       Holkar Cricket Stadium    AK Chaudhary   \n",
              "4                        M Chinnaswamy Stadium             NaN   \n",
              "..                                         ...             ...   \n",
              "751                           Wankhede Stadium   Nanda Kishore   \n",
              "752                  M. A. Chidambaram Stadium     Nigel Llong   \n",
              "753                           ACA-VDCA Stadium             NaN   \n",
              "754                           ACA-VDCA Stadium   Sundaram Ravi   \n",
              "755         Rajiv Gandhi Intl. Cricket Stadium     Nitin Menon   \n",
              "\n",
              "            umpire2                  umpire3  \n",
              "0          NJ Llong                      NaN  \n",
              "1            S Ravi                      NaN  \n",
              "2         CK Nandan                      NaN  \n",
              "3     C Shamshuddin                      NaN  \n",
              "4               NaN                      NaN  \n",
              "..              ...                      ...  \n",
              "751        O Nandan                   S Ravi  \n",
              "752     Nitin Menon                Ian Gould  \n",
              "753             NaN                      NaN  \n",
              "754  Bruce Oxenford  Chettithody Shamshuddin  \n",
              "755       Ian Gould              Nigel Llong  \n",
              "\n",
              "[756 rows x 18 columns]"
            ]
          },
          "metadata": {
            "tags": []
          },
          "execution_count": 8
        }
      ]
    },
    {
      "cell_type": "code",
      "metadata": {
        "id": "odIPwWOlZdjR",
        "outputId": "23a4cc8c-7b3d-4991-c2d1-c5ed6ee073e3"
      },
      "source": [
        "#Getting the information about the matches dataframe\n",
        "matches_df.info()"
      ],
      "execution_count": null,
      "outputs": [
        {
          "output_type": "stream",
          "text": [
            "<class 'pandas.core.frame.DataFrame'>\n",
            "RangeIndex: 756 entries, 0 to 755\n",
            "Data columns (total 18 columns):\n",
            " #   Column           Non-Null Count  Dtype \n",
            "---  ------           --------------  ----- \n",
            " 0   id               756 non-null    int64 \n",
            " 1   season           756 non-null    int64 \n",
            " 2   city             749 non-null    object\n",
            " 3   date             756 non-null    object\n",
            " 4   team1            756 non-null    object\n",
            " 5   team2            756 non-null    object\n",
            " 6   toss_winner      756 non-null    object\n",
            " 7   toss_decision    756 non-null    object\n",
            " 8   result           756 non-null    object\n",
            " 9   dl_applied       756 non-null    int64 \n",
            " 10  winner           752 non-null    object\n",
            " 11  win_by_runs      756 non-null    int64 \n",
            " 12  win_by_wickets   756 non-null    int64 \n",
            " 13  player_of_match  752 non-null    object\n",
            " 14  venue            756 non-null    object\n",
            " 15  umpire1          754 non-null    object\n",
            " 16  umpire2          754 non-null    object\n",
            " 17  umpire3          119 non-null    object\n",
            "dtypes: int64(5), object(13)\n",
            "memory usage: 106.4+ KB\n"
          ],
          "name": "stdout"
        }
      ]
    },
    {
      "cell_type": "markdown",
      "metadata": {
        "id": "g_Ww_HpMZdjS"
      },
      "source": [
        "From the above information the following can be observed:\n",
        "\n",
        "1. The number of city is 749 even though the no. of venue is 756 => 7 data missing in city column.\n",
        "\n",
        "2. The count of number of winner and player of the match is 752 => It may due to tie or no result due to raining"
      ]
    },
    {
      "cell_type": "code",
      "metadata": {
        "id": "nVk1g23kZdjS"
      },
      "source": [
        "#Dropping the column of umpires as we will not be using it for any data analysis\n",
        "matches_df.drop(columns=['umpire1','umpire2','umpire3'], inplace=True)"
      ],
      "execution_count": null,
      "outputs": []
    },
    {
      "cell_type": "code",
      "metadata": {
        "id": "OX7xd6iyZdjS",
        "outputId": "a617de03-99d2-421e-e40e-4dfaa03807d2"
      },
      "source": [
        "#Finding the shape of the matches dataframe\n",
        "matches_df.shape"
      ],
      "execution_count": null,
      "outputs": [
        {
          "output_type": "execute_result",
          "data": {
            "text/plain": [
              "(756, 15)"
            ]
          },
          "metadata": {
            "tags": []
          },
          "execution_count": 16
        }
      ]
    },
    {
      "cell_type": "code",
      "metadata": {
        "id": "K14qSPVyZdjS",
        "outputId": "5ca976e8-76b8-4df5-973d-9cf22a1d2573"
      },
      "source": [
        "#Finding the columns of matches dataframe\n",
        "matches_df.columns"
      ],
      "execution_count": null,
      "outputs": [
        {
          "output_type": "execute_result",
          "data": {
            "text/plain": [
              "Index(['id', 'season', 'city', 'date', 'team1', 'team2', 'toss_winner',\n",
              "       'toss_decision', 'result', 'dl_applied', 'winner', 'win_by_runs',\n",
              "       'win_by_wickets', 'player_of_match', 'venue'],\n",
              "      dtype='object')"
            ]
          },
          "metadata": {
            "tags": []
          },
          "execution_count": 17
        }
      ]
    },
    {
      "cell_type": "code",
      "metadata": {
        "id": "RbBH-1RkZdjT",
        "outputId": "e5cf16e2-2d03-4d13-fcbf-c7c6c8569801"
      },
      "source": [
        "matches_df.team1.unique()"
      ],
      "execution_count": null,
      "outputs": [
        {
          "output_type": "execute_result",
          "data": {
            "text/plain": [
              "array(['Sunrisers Hyderabad', 'Mumbai Indians', 'Gujarat Lions',\n",
              "       'Rising Pune Supergiant', 'Royal Challengers Bangalore',\n",
              "       'Kolkata Knight Riders', 'Delhi Daredevils', 'Kings XI Punjab',\n",
              "       'Chennai Super Kings', 'Rajasthan Royals', 'Deccan Chargers',\n",
              "       'Kochi Tuskers Kerala', 'Pune Warriors', 'Rising Pune Supergiants',\n",
              "       'Delhi Capitals'], dtype=object)"
            ]
          },
          "metadata": {
            "tags": []
          },
          "execution_count": 18
        }
      ]
    },
    {
      "cell_type": "markdown",
      "metadata": {
        "id": "65J-Qy9VZdjT"
      },
      "source": [
        "#### Cleaning in Team Name:\n",
        "<b>1. In the above data, you can see there have been multiple name for the same team i.e `Rising Pune Supergiants` and `Rising Pune Supergiant`. It is due to ommission of 's'. Thus data cleaning is required for this error.</b>\n",
        "<b>2. In the above data, you can see that there are same team with two difeerent name `Delhi Daredevils` and `Delhi Capitals`. Earlier the team's name is `Delhi Daredevils` but its new name is `Delhi Capital`.Thus data cleaning is required for this error.</b>\n",
        "\n",
        "There will be three columns where the fix will be required\n",
        "1. In team1 column\n",
        "2. In team2 column\n",
        "3. In winner column"
      ]
    },
    {
      "cell_type": "code",
      "metadata": {
        "id": "GOemzUhwZdjT"
      },
      "source": [
        "#Using replace method in pandas library\n",
        "\n",
        "matches_df.team1.replace({'Rising Pune Supergiants' : 'Rising Pune Supergiant', 'Delhi Daredevils':'Delhi Capitals'},inplace=True)\n",
        "matches_df.team2.replace({'Rising Pune Supergiants' : 'Rising Pune Supergiant', 'Delhi Daredevils':'Delhi Capitals'},inplace=True)\n",
        "matches_df.winner.replace({'Rising Pune Supergiants' : 'Rising Pune Supergiant', 'Delhi Daredevils':'Delhi Capitals'},inplace=True)"
      ],
      "execution_count": null,
      "outputs": []
    },
    {
      "cell_type": "code",
      "metadata": {
        "id": "AGxKq9vZZdjU",
        "outputId": "a756c501-8448-4553-b590-f0be01c4ce7f"
      },
      "source": [
        "matches_df.team1.unique()"
      ],
      "execution_count": null,
      "outputs": [
        {
          "output_type": "execute_result",
          "data": {
            "text/plain": [
              "array(['Sunrisers Hyderabad', 'Mumbai Indians', 'Gujarat Lions',\n",
              "       'Rising Pune Supergiant', 'Royal Challengers Bangalore',\n",
              "       'Kolkata Knight Riders', 'Delhi Capitals', 'Kings XI Punjab',\n",
              "       'Chennai Super Kings', 'Rajasthan Royals', 'Deccan Chargers',\n",
              "       'Kochi Tuskers Kerala', 'Pune Warriors'], dtype=object)"
            ]
          },
          "metadata": {
            "tags": []
          },
          "execution_count": 20
        }
      ]
    },
    {
      "cell_type": "code",
      "metadata": {
        "id": "XBnrheW-ZdjU",
        "outputId": "ac218399-a5c3-4e33-bce3-82a5b21fb39b"
      },
      "source": [
        "#Finding the rows where the city is NaN\n",
        "matches_df[matches_df.city.isna()]"
      ],
      "execution_count": null,
      "outputs": [
        {
          "output_type": "execute_result",
          "data": {
            "text/html": [
              "<div>\n",
              "<style scoped>\n",
              "    .dataframe tbody tr th:only-of-type {\n",
              "        vertical-align: middle;\n",
              "    }\n",
              "\n",
              "    .dataframe tbody tr th {\n",
              "        vertical-align: top;\n",
              "    }\n",
              "\n",
              "    .dataframe thead th {\n",
              "        text-align: right;\n",
              "    }\n",
              "</style>\n",
              "<table border=\"1\" class=\"dataframe\">\n",
              "  <thead>\n",
              "    <tr style=\"text-align: right;\">\n",
              "      <th></th>\n",
              "      <th>id</th>\n",
              "      <th>season</th>\n",
              "      <th>city</th>\n",
              "      <th>date</th>\n",
              "      <th>team1</th>\n",
              "      <th>team2</th>\n",
              "      <th>toss_winner</th>\n",
              "      <th>toss_decision</th>\n",
              "      <th>result</th>\n",
              "      <th>dl_applied</th>\n",
              "      <th>winner</th>\n",
              "      <th>win_by_runs</th>\n",
              "      <th>win_by_wickets</th>\n",
              "      <th>player_of_match</th>\n",
              "      <th>venue</th>\n",
              "    </tr>\n",
              "  </thead>\n",
              "  <tbody>\n",
              "    <tr>\n",
              "      <th>461</th>\n",
              "      <td>462</td>\n",
              "      <td>2014</td>\n",
              "      <td>NaN</td>\n",
              "      <td>2014-04-19</td>\n",
              "      <td>Mumbai Indians</td>\n",
              "      <td>Royal Challengers Bangalore</td>\n",
              "      <td>Royal Challengers Bangalore</td>\n",
              "      <td>field</td>\n",
              "      <td>normal</td>\n",
              "      <td>0</td>\n",
              "      <td>Royal Challengers Bangalore</td>\n",
              "      <td>0</td>\n",
              "      <td>7</td>\n",
              "      <td>PA Patel</td>\n",
              "      <td>Dubai International Cricket Stadium</td>\n",
              "    </tr>\n",
              "    <tr>\n",
              "      <th>462</th>\n",
              "      <td>463</td>\n",
              "      <td>2014</td>\n",
              "      <td>NaN</td>\n",
              "      <td>2014-04-19</td>\n",
              "      <td>Kolkata Knight Riders</td>\n",
              "      <td>Delhi Capitals</td>\n",
              "      <td>Kolkata Knight Riders</td>\n",
              "      <td>bat</td>\n",
              "      <td>normal</td>\n",
              "      <td>0</td>\n",
              "      <td>Delhi Capitals</td>\n",
              "      <td>0</td>\n",
              "      <td>4</td>\n",
              "      <td>JP Duminy</td>\n",
              "      <td>Dubai International Cricket Stadium</td>\n",
              "    </tr>\n",
              "    <tr>\n",
              "      <th>466</th>\n",
              "      <td>467</td>\n",
              "      <td>2014</td>\n",
              "      <td>NaN</td>\n",
              "      <td>2014-04-23</td>\n",
              "      <td>Chennai Super Kings</td>\n",
              "      <td>Rajasthan Royals</td>\n",
              "      <td>Rajasthan Royals</td>\n",
              "      <td>field</td>\n",
              "      <td>normal</td>\n",
              "      <td>0</td>\n",
              "      <td>Chennai Super Kings</td>\n",
              "      <td>7</td>\n",
              "      <td>0</td>\n",
              "      <td>RA Jadeja</td>\n",
              "      <td>Dubai International Cricket Stadium</td>\n",
              "    </tr>\n",
              "    <tr>\n",
              "      <th>468</th>\n",
              "      <td>469</td>\n",
              "      <td>2014</td>\n",
              "      <td>NaN</td>\n",
              "      <td>2014-04-25</td>\n",
              "      <td>Sunrisers Hyderabad</td>\n",
              "      <td>Delhi Capitals</td>\n",
              "      <td>Sunrisers Hyderabad</td>\n",
              "      <td>bat</td>\n",
              "      <td>normal</td>\n",
              "      <td>0</td>\n",
              "      <td>Sunrisers Hyderabad</td>\n",
              "      <td>4</td>\n",
              "      <td>0</td>\n",
              "      <td>AJ Finch</td>\n",
              "      <td>Dubai International Cricket Stadium</td>\n",
              "    </tr>\n",
              "    <tr>\n",
              "      <th>469</th>\n",
              "      <td>470</td>\n",
              "      <td>2014</td>\n",
              "      <td>NaN</td>\n",
              "      <td>2014-04-25</td>\n",
              "      <td>Mumbai Indians</td>\n",
              "      <td>Chennai Super Kings</td>\n",
              "      <td>Mumbai Indians</td>\n",
              "      <td>bat</td>\n",
              "      <td>normal</td>\n",
              "      <td>0</td>\n",
              "      <td>Chennai Super Kings</td>\n",
              "      <td>0</td>\n",
              "      <td>7</td>\n",
              "      <td>MM Sharma</td>\n",
              "      <td>Dubai International Cricket Stadium</td>\n",
              "    </tr>\n",
              "    <tr>\n",
              "      <th>474</th>\n",
              "      <td>475</td>\n",
              "      <td>2014</td>\n",
              "      <td>NaN</td>\n",
              "      <td>2014-04-28</td>\n",
              "      <td>Royal Challengers Bangalore</td>\n",
              "      <td>Kings XI Punjab</td>\n",
              "      <td>Kings XI Punjab</td>\n",
              "      <td>field</td>\n",
              "      <td>normal</td>\n",
              "      <td>0</td>\n",
              "      <td>Kings XI Punjab</td>\n",
              "      <td>0</td>\n",
              "      <td>5</td>\n",
              "      <td>Sandeep Sharma</td>\n",
              "      <td>Dubai International Cricket Stadium</td>\n",
              "    </tr>\n",
              "    <tr>\n",
              "      <th>476</th>\n",
              "      <td>477</td>\n",
              "      <td>2014</td>\n",
              "      <td>NaN</td>\n",
              "      <td>2014-04-30</td>\n",
              "      <td>Sunrisers Hyderabad</td>\n",
              "      <td>Mumbai Indians</td>\n",
              "      <td>Mumbai Indians</td>\n",
              "      <td>field</td>\n",
              "      <td>normal</td>\n",
              "      <td>0</td>\n",
              "      <td>Sunrisers Hyderabad</td>\n",
              "      <td>15</td>\n",
              "      <td>0</td>\n",
              "      <td>B Kumar</td>\n",
              "      <td>Dubai International Cricket Stadium</td>\n",
              "    </tr>\n",
              "  </tbody>\n",
              "</table>\n",
              "</div>"
            ],
            "text/plain": [
              "      id  season city        date                        team1  \\\n",
              "461  462    2014  NaN  2014-04-19               Mumbai Indians   \n",
              "462  463    2014  NaN  2014-04-19        Kolkata Knight Riders   \n",
              "466  467    2014  NaN  2014-04-23          Chennai Super Kings   \n",
              "468  469    2014  NaN  2014-04-25          Sunrisers Hyderabad   \n",
              "469  470    2014  NaN  2014-04-25               Mumbai Indians   \n",
              "474  475    2014  NaN  2014-04-28  Royal Challengers Bangalore   \n",
              "476  477    2014  NaN  2014-04-30          Sunrisers Hyderabad   \n",
              "\n",
              "                           team2                  toss_winner toss_decision  \\\n",
              "461  Royal Challengers Bangalore  Royal Challengers Bangalore         field   \n",
              "462               Delhi Capitals        Kolkata Knight Riders           bat   \n",
              "466             Rajasthan Royals             Rajasthan Royals         field   \n",
              "468               Delhi Capitals          Sunrisers Hyderabad           bat   \n",
              "469          Chennai Super Kings               Mumbai Indians           bat   \n",
              "474              Kings XI Punjab              Kings XI Punjab         field   \n",
              "476               Mumbai Indians               Mumbai Indians         field   \n",
              "\n",
              "     result  dl_applied                       winner  win_by_runs  \\\n",
              "461  normal           0  Royal Challengers Bangalore            0   \n",
              "462  normal           0               Delhi Capitals            0   \n",
              "466  normal           0          Chennai Super Kings            7   \n",
              "468  normal           0          Sunrisers Hyderabad            4   \n",
              "469  normal           0          Chennai Super Kings            0   \n",
              "474  normal           0              Kings XI Punjab            0   \n",
              "476  normal           0          Sunrisers Hyderabad           15   \n",
              "\n",
              "     win_by_wickets player_of_match                                venue  \n",
              "461               7        PA Patel  Dubai International Cricket Stadium  \n",
              "462               4       JP Duminy  Dubai International Cricket Stadium  \n",
              "466               0       RA Jadeja  Dubai International Cricket Stadium  \n",
              "468               0        AJ Finch  Dubai International Cricket Stadium  \n",
              "469               7       MM Sharma  Dubai International Cricket Stadium  \n",
              "474               5  Sandeep Sharma  Dubai International Cricket Stadium  \n",
              "476               0         B Kumar  Dubai International Cricket Stadium  "
            ]
          },
          "metadata": {
            "tags": []
          },
          "execution_count": 21
        }
      ]
    },
    {
      "cell_type": "markdown",
      "metadata": {
        "id": "25hlQLThZdjU"
      },
      "source": [
        "From the above, it can be observed that city where no value is placed is played in the Stadium `Dubai International Cricket Stadium` located in Dubai. Therefore, the city in this will be Dubai."
      ]
    },
    {
      "cell_type": "code",
      "metadata": {
        "id": "UYjfsEd4ZdjU"
      },
      "source": [
        "#placing city value to Dubai where there is no value\n",
        "matches_df.loc[[461,462,466,468,469,474,476],'city'] = 'Dubai'"
      ],
      "execution_count": null,
      "outputs": []
    },
    {
      "cell_type": "code",
      "metadata": {
        "id": "x46EftlOZdjU",
        "outputId": "52957fe1-89fc-4802-cb6e-688a146fdf28"
      },
      "source": [
        "matches_df.loc[[461,462,466,468,469,474,476]]"
      ],
      "execution_count": null,
      "outputs": [
        {
          "output_type": "execute_result",
          "data": {
            "text/html": [
              "<div>\n",
              "<style scoped>\n",
              "    .dataframe tbody tr th:only-of-type {\n",
              "        vertical-align: middle;\n",
              "    }\n",
              "\n",
              "    .dataframe tbody tr th {\n",
              "        vertical-align: top;\n",
              "    }\n",
              "\n",
              "    .dataframe thead th {\n",
              "        text-align: right;\n",
              "    }\n",
              "</style>\n",
              "<table border=\"1\" class=\"dataframe\">\n",
              "  <thead>\n",
              "    <tr style=\"text-align: right;\">\n",
              "      <th></th>\n",
              "      <th>id</th>\n",
              "      <th>season</th>\n",
              "      <th>city</th>\n",
              "      <th>date</th>\n",
              "      <th>team1</th>\n",
              "      <th>team2</th>\n",
              "      <th>toss_winner</th>\n",
              "      <th>toss_decision</th>\n",
              "      <th>result</th>\n",
              "      <th>dl_applied</th>\n",
              "      <th>winner</th>\n",
              "      <th>win_by_runs</th>\n",
              "      <th>win_by_wickets</th>\n",
              "      <th>player_of_match</th>\n",
              "      <th>venue</th>\n",
              "    </tr>\n",
              "  </thead>\n",
              "  <tbody>\n",
              "    <tr>\n",
              "      <th>461</th>\n",
              "      <td>462</td>\n",
              "      <td>2014</td>\n",
              "      <td>Dubai</td>\n",
              "      <td>2014-04-19</td>\n",
              "      <td>Mumbai Indians</td>\n",
              "      <td>Royal Challengers Bangalore</td>\n",
              "      <td>Royal Challengers Bangalore</td>\n",
              "      <td>field</td>\n",
              "      <td>normal</td>\n",
              "      <td>0</td>\n",
              "      <td>Royal Challengers Bangalore</td>\n",
              "      <td>0</td>\n",
              "      <td>7</td>\n",
              "      <td>PA Patel</td>\n",
              "      <td>Dubai International Cricket Stadium</td>\n",
              "    </tr>\n",
              "    <tr>\n",
              "      <th>462</th>\n",
              "      <td>463</td>\n",
              "      <td>2014</td>\n",
              "      <td>Dubai</td>\n",
              "      <td>2014-04-19</td>\n",
              "      <td>Kolkata Knight Riders</td>\n",
              "      <td>Delhi Capitals</td>\n",
              "      <td>Kolkata Knight Riders</td>\n",
              "      <td>bat</td>\n",
              "      <td>normal</td>\n",
              "      <td>0</td>\n",
              "      <td>Delhi Capitals</td>\n",
              "      <td>0</td>\n",
              "      <td>4</td>\n",
              "      <td>JP Duminy</td>\n",
              "      <td>Dubai International Cricket Stadium</td>\n",
              "    </tr>\n",
              "    <tr>\n",
              "      <th>466</th>\n",
              "      <td>467</td>\n",
              "      <td>2014</td>\n",
              "      <td>Dubai</td>\n",
              "      <td>2014-04-23</td>\n",
              "      <td>Chennai Super Kings</td>\n",
              "      <td>Rajasthan Royals</td>\n",
              "      <td>Rajasthan Royals</td>\n",
              "      <td>field</td>\n",
              "      <td>normal</td>\n",
              "      <td>0</td>\n",
              "      <td>Chennai Super Kings</td>\n",
              "      <td>7</td>\n",
              "      <td>0</td>\n",
              "      <td>RA Jadeja</td>\n",
              "      <td>Dubai International Cricket Stadium</td>\n",
              "    </tr>\n",
              "    <tr>\n",
              "      <th>468</th>\n",
              "      <td>469</td>\n",
              "      <td>2014</td>\n",
              "      <td>Dubai</td>\n",
              "      <td>2014-04-25</td>\n",
              "      <td>Sunrisers Hyderabad</td>\n",
              "      <td>Delhi Capitals</td>\n",
              "      <td>Sunrisers Hyderabad</td>\n",
              "      <td>bat</td>\n",
              "      <td>normal</td>\n",
              "      <td>0</td>\n",
              "      <td>Sunrisers Hyderabad</td>\n",
              "      <td>4</td>\n",
              "      <td>0</td>\n",
              "      <td>AJ Finch</td>\n",
              "      <td>Dubai International Cricket Stadium</td>\n",
              "    </tr>\n",
              "    <tr>\n",
              "      <th>469</th>\n",
              "      <td>470</td>\n",
              "      <td>2014</td>\n",
              "      <td>Dubai</td>\n",
              "      <td>2014-04-25</td>\n",
              "      <td>Mumbai Indians</td>\n",
              "      <td>Chennai Super Kings</td>\n",
              "      <td>Mumbai Indians</td>\n",
              "      <td>bat</td>\n",
              "      <td>normal</td>\n",
              "      <td>0</td>\n",
              "      <td>Chennai Super Kings</td>\n",
              "      <td>0</td>\n",
              "      <td>7</td>\n",
              "      <td>MM Sharma</td>\n",
              "      <td>Dubai International Cricket Stadium</td>\n",
              "    </tr>\n",
              "    <tr>\n",
              "      <th>474</th>\n",
              "      <td>475</td>\n",
              "      <td>2014</td>\n",
              "      <td>Dubai</td>\n",
              "      <td>2014-04-28</td>\n",
              "      <td>Royal Challengers Bangalore</td>\n",
              "      <td>Kings XI Punjab</td>\n",
              "      <td>Kings XI Punjab</td>\n",
              "      <td>field</td>\n",
              "      <td>normal</td>\n",
              "      <td>0</td>\n",
              "      <td>Kings XI Punjab</td>\n",
              "      <td>0</td>\n",
              "      <td>5</td>\n",
              "      <td>Sandeep Sharma</td>\n",
              "      <td>Dubai International Cricket Stadium</td>\n",
              "    </tr>\n",
              "    <tr>\n",
              "      <th>476</th>\n",
              "      <td>477</td>\n",
              "      <td>2014</td>\n",
              "      <td>Dubai</td>\n",
              "      <td>2014-04-30</td>\n",
              "      <td>Sunrisers Hyderabad</td>\n",
              "      <td>Mumbai Indians</td>\n",
              "      <td>Mumbai Indians</td>\n",
              "      <td>field</td>\n",
              "      <td>normal</td>\n",
              "      <td>0</td>\n",
              "      <td>Sunrisers Hyderabad</td>\n",
              "      <td>15</td>\n",
              "      <td>0</td>\n",
              "      <td>B Kumar</td>\n",
              "      <td>Dubai International Cricket Stadium</td>\n",
              "    </tr>\n",
              "  </tbody>\n",
              "</table>\n",
              "</div>"
            ],
            "text/plain": [
              "      id  season   city        date                        team1  \\\n",
              "461  462    2014  Dubai  2014-04-19               Mumbai Indians   \n",
              "462  463    2014  Dubai  2014-04-19        Kolkata Knight Riders   \n",
              "466  467    2014  Dubai  2014-04-23          Chennai Super Kings   \n",
              "468  469    2014  Dubai  2014-04-25          Sunrisers Hyderabad   \n",
              "469  470    2014  Dubai  2014-04-25               Mumbai Indians   \n",
              "474  475    2014  Dubai  2014-04-28  Royal Challengers Bangalore   \n",
              "476  477    2014  Dubai  2014-04-30          Sunrisers Hyderabad   \n",
              "\n",
              "                           team2                  toss_winner toss_decision  \\\n",
              "461  Royal Challengers Bangalore  Royal Challengers Bangalore         field   \n",
              "462               Delhi Capitals        Kolkata Knight Riders           bat   \n",
              "466             Rajasthan Royals             Rajasthan Royals         field   \n",
              "468               Delhi Capitals          Sunrisers Hyderabad           bat   \n",
              "469          Chennai Super Kings               Mumbai Indians           bat   \n",
              "474              Kings XI Punjab              Kings XI Punjab         field   \n",
              "476               Mumbai Indians               Mumbai Indians         field   \n",
              "\n",
              "     result  dl_applied                       winner  win_by_runs  \\\n",
              "461  normal           0  Royal Challengers Bangalore            0   \n",
              "462  normal           0               Delhi Capitals            0   \n",
              "466  normal           0          Chennai Super Kings            7   \n",
              "468  normal           0          Sunrisers Hyderabad            4   \n",
              "469  normal           0          Chennai Super Kings            0   \n",
              "474  normal           0              Kings XI Punjab            0   \n",
              "476  normal           0          Sunrisers Hyderabad           15   \n",
              "\n",
              "     win_by_wickets player_of_match                                venue  \n",
              "461               7        PA Patel  Dubai International Cricket Stadium  \n",
              "462               4       JP Duminy  Dubai International Cricket Stadium  \n",
              "466               0       RA Jadeja  Dubai International Cricket Stadium  \n",
              "468               0        AJ Finch  Dubai International Cricket Stadium  \n",
              "469               7       MM Sharma  Dubai International Cricket Stadium  \n",
              "474               5  Sandeep Sharma  Dubai International Cricket Stadium  \n",
              "476               0         B Kumar  Dubai International Cricket Stadium  "
            ]
          },
          "metadata": {
            "tags": []
          },
          "execution_count": 23
        }
      ]
    },
    {
      "cell_type": "code",
      "metadata": {
        "id": "00fbjEuVZdjV",
        "outputId": "3e989691-b556-4eba-acff-dc78daf0ffaf"
      },
      "source": [
        "matches_df[matches_df.result != 'normal']"
      ],
      "execution_count": null,
      "outputs": [
        {
          "output_type": "execute_result",
          "data": {
            "text/html": [
              "<div>\n",
              "<style scoped>\n",
              "    .dataframe tbody tr th:only-of-type {\n",
              "        vertical-align: middle;\n",
              "    }\n",
              "\n",
              "    .dataframe tbody tr th {\n",
              "        vertical-align: top;\n",
              "    }\n",
              "\n",
              "    .dataframe thead th {\n",
              "        text-align: right;\n",
              "    }\n",
              "</style>\n",
              "<table border=\"1\" class=\"dataframe\">\n",
              "  <thead>\n",
              "    <tr style=\"text-align: right;\">\n",
              "      <th></th>\n",
              "      <th>id</th>\n",
              "      <th>season</th>\n",
              "      <th>city</th>\n",
              "      <th>date</th>\n",
              "      <th>team1</th>\n",
              "      <th>team2</th>\n",
              "      <th>toss_winner</th>\n",
              "      <th>toss_decision</th>\n",
              "      <th>result</th>\n",
              "      <th>dl_applied</th>\n",
              "      <th>winner</th>\n",
              "      <th>win_by_runs</th>\n",
              "      <th>win_by_wickets</th>\n",
              "      <th>player_of_match</th>\n",
              "      <th>venue</th>\n",
              "    </tr>\n",
              "  </thead>\n",
              "  <tbody>\n",
              "    <tr>\n",
              "      <th>33</th>\n",
              "      <td>34</td>\n",
              "      <td>2017</td>\n",
              "      <td>Rajkot</td>\n",
              "      <td>2017-04-29</td>\n",
              "      <td>Gujarat Lions</td>\n",
              "      <td>Mumbai Indians</td>\n",
              "      <td>Gujarat Lions</td>\n",
              "      <td>bat</td>\n",
              "      <td>tie</td>\n",
              "      <td>0</td>\n",
              "      <td>Mumbai Indians</td>\n",
              "      <td>0</td>\n",
              "      <td>0</td>\n",
              "      <td>KH Pandya</td>\n",
              "      <td>Saurashtra Cricket Association Stadium</td>\n",
              "    </tr>\n",
              "    <tr>\n",
              "      <th>125</th>\n",
              "      <td>126</td>\n",
              "      <td>2009</td>\n",
              "      <td>Cape Town</td>\n",
              "      <td>2009-04-23</td>\n",
              "      <td>Rajasthan Royals</td>\n",
              "      <td>Kolkata Knight Riders</td>\n",
              "      <td>Kolkata Knight Riders</td>\n",
              "      <td>field</td>\n",
              "      <td>tie</td>\n",
              "      <td>0</td>\n",
              "      <td>Rajasthan Royals</td>\n",
              "      <td>0</td>\n",
              "      <td>0</td>\n",
              "      <td>YK Pathan</td>\n",
              "      <td>Newlands</td>\n",
              "    </tr>\n",
              "    <tr>\n",
              "      <th>189</th>\n",
              "      <td>190</td>\n",
              "      <td>2010</td>\n",
              "      <td>Chennai</td>\n",
              "      <td>2010-03-21</td>\n",
              "      <td>Kings XI Punjab</td>\n",
              "      <td>Chennai Super Kings</td>\n",
              "      <td>Chennai Super Kings</td>\n",
              "      <td>field</td>\n",
              "      <td>tie</td>\n",
              "      <td>0</td>\n",
              "      <td>Kings XI Punjab</td>\n",
              "      <td>0</td>\n",
              "      <td>0</td>\n",
              "      <td>J Theron</td>\n",
              "      <td>MA Chidambaram Stadium, Chepauk</td>\n",
              "    </tr>\n",
              "    <tr>\n",
              "      <th>300</th>\n",
              "      <td>301</td>\n",
              "      <td>2011</td>\n",
              "      <td>Delhi</td>\n",
              "      <td>2011-05-21</td>\n",
              "      <td>Delhi Capitals</td>\n",
              "      <td>Pune Warriors</td>\n",
              "      <td>Delhi Daredevils</td>\n",
              "      <td>bat</td>\n",
              "      <td>no result</td>\n",
              "      <td>0</td>\n",
              "      <td>NaN</td>\n",
              "      <td>0</td>\n",
              "      <td>0</td>\n",
              "      <td>NaN</td>\n",
              "      <td>Feroz Shah Kotla</td>\n",
              "    </tr>\n",
              "    <tr>\n",
              "      <th>387</th>\n",
              "      <td>388</td>\n",
              "      <td>2013</td>\n",
              "      <td>Hyderabad</td>\n",
              "      <td>2013-04-07</td>\n",
              "      <td>Royal Challengers Bangalore</td>\n",
              "      <td>Sunrisers Hyderabad</td>\n",
              "      <td>Royal Challengers Bangalore</td>\n",
              "      <td>bat</td>\n",
              "      <td>tie</td>\n",
              "      <td>0</td>\n",
              "      <td>Sunrisers Hyderabad</td>\n",
              "      <td>0</td>\n",
              "      <td>0</td>\n",
              "      <td>GH Vihari</td>\n",
              "      <td>Rajiv Gandhi International Stadium, Uppal</td>\n",
              "    </tr>\n",
              "    <tr>\n",
              "      <th>400</th>\n",
              "      <td>401</td>\n",
              "      <td>2013</td>\n",
              "      <td>Bangalore</td>\n",
              "      <td>2013-04-16</td>\n",
              "      <td>Delhi Capitals</td>\n",
              "      <td>Royal Challengers Bangalore</td>\n",
              "      <td>Royal Challengers Bangalore</td>\n",
              "      <td>field</td>\n",
              "      <td>tie</td>\n",
              "      <td>0</td>\n",
              "      <td>Royal Challengers Bangalore</td>\n",
              "      <td>0</td>\n",
              "      <td>0</td>\n",
              "      <td>V Kohli</td>\n",
              "      <td>M Chinnaswamy Stadium</td>\n",
              "    </tr>\n",
              "    <tr>\n",
              "      <th>475</th>\n",
              "      <td>476</td>\n",
              "      <td>2014</td>\n",
              "      <td>Abu Dhabi</td>\n",
              "      <td>2014-04-29</td>\n",
              "      <td>Rajasthan Royals</td>\n",
              "      <td>Kolkata Knight Riders</td>\n",
              "      <td>Rajasthan Royals</td>\n",
              "      <td>bat</td>\n",
              "      <td>tie</td>\n",
              "      <td>0</td>\n",
              "      <td>Rajasthan Royals</td>\n",
              "      <td>0</td>\n",
              "      <td>0</td>\n",
              "      <td>JP Faulkner</td>\n",
              "      <td>Sheikh Zayed Stadium</td>\n",
              "    </tr>\n",
              "    <tr>\n",
              "      <th>535</th>\n",
              "      <td>536</td>\n",
              "      <td>2015</td>\n",
              "      <td>Ahmedabad</td>\n",
              "      <td>2015-04-21</td>\n",
              "      <td>Rajasthan Royals</td>\n",
              "      <td>Kings XI Punjab</td>\n",
              "      <td>Kings XI Punjab</td>\n",
              "      <td>field</td>\n",
              "      <td>tie</td>\n",
              "      <td>0</td>\n",
              "      <td>Kings XI Punjab</td>\n",
              "      <td>0</td>\n",
              "      <td>0</td>\n",
              "      <td>SE Marsh</td>\n",
              "      <td>Sardar Patel Stadium, Motera</td>\n",
              "    </tr>\n",
              "    <tr>\n",
              "      <th>545</th>\n",
              "      <td>546</td>\n",
              "      <td>2015</td>\n",
              "      <td>Bangalore</td>\n",
              "      <td>2015-04-29</td>\n",
              "      <td>Royal Challengers Bangalore</td>\n",
              "      <td>Rajasthan Royals</td>\n",
              "      <td>Rajasthan Royals</td>\n",
              "      <td>field</td>\n",
              "      <td>no result</td>\n",
              "      <td>0</td>\n",
              "      <td>NaN</td>\n",
              "      <td>0</td>\n",
              "      <td>0</td>\n",
              "      <td>NaN</td>\n",
              "      <td>M Chinnaswamy Stadium</td>\n",
              "    </tr>\n",
              "    <tr>\n",
              "      <th>570</th>\n",
              "      <td>571</td>\n",
              "      <td>2015</td>\n",
              "      <td>Bangalore</td>\n",
              "      <td>2015-05-17</td>\n",
              "      <td>Delhi Capitals</td>\n",
              "      <td>Royal Challengers Bangalore</td>\n",
              "      <td>Royal Challengers Bangalore</td>\n",
              "      <td>field</td>\n",
              "      <td>no result</td>\n",
              "      <td>0</td>\n",
              "      <td>NaN</td>\n",
              "      <td>0</td>\n",
              "      <td>0</td>\n",
              "      <td>NaN</td>\n",
              "      <td>M Chinnaswamy Stadium</td>\n",
              "    </tr>\n",
              "    <tr>\n",
              "      <th>705</th>\n",
              "      <td>11146</td>\n",
              "      <td>2019</td>\n",
              "      <td>Delhi</td>\n",
              "      <td>30/03/19</td>\n",
              "      <td>Kolkata Knight Riders</td>\n",
              "      <td>Delhi Capitals</td>\n",
              "      <td>Delhi Capitals</td>\n",
              "      <td>field</td>\n",
              "      <td>tie</td>\n",
              "      <td>0</td>\n",
              "      <td>Delhi Capitals</td>\n",
              "      <td>0</td>\n",
              "      <td>0</td>\n",
              "      <td>P Shaw</td>\n",
              "      <td>Feroz Shah Kotla Ground</td>\n",
              "    </tr>\n",
              "    <tr>\n",
              "      <th>744</th>\n",
              "      <td>11340</td>\n",
              "      <td>2019</td>\n",
              "      <td>Bengaluru</td>\n",
              "      <td>30/04/19</td>\n",
              "      <td>Royal Challengers Bangalore</td>\n",
              "      <td>Rajasthan Royals</td>\n",
              "      <td>Rajasthan Royals</td>\n",
              "      <td>field</td>\n",
              "      <td>no result</td>\n",
              "      <td>0</td>\n",
              "      <td>NaN</td>\n",
              "      <td>0</td>\n",
              "      <td>0</td>\n",
              "      <td>NaN</td>\n",
              "      <td>M. Chinnaswamy Stadium</td>\n",
              "    </tr>\n",
              "    <tr>\n",
              "      <th>746</th>\n",
              "      <td>11342</td>\n",
              "      <td>2019</td>\n",
              "      <td>Mumbai</td>\n",
              "      <td>02/05/19</td>\n",
              "      <td>Mumbai Indians</td>\n",
              "      <td>Sunrisers Hyderabad</td>\n",
              "      <td>Mumbai Indians</td>\n",
              "      <td>bat</td>\n",
              "      <td>tie</td>\n",
              "      <td>0</td>\n",
              "      <td>Mumbai Indians</td>\n",
              "      <td>0</td>\n",
              "      <td>0</td>\n",
              "      <td>JJ Bumrah</td>\n",
              "      <td>Wankhede Stadium</td>\n",
              "    </tr>\n",
              "  </tbody>\n",
              "</table>\n",
              "</div>"
            ],
            "text/plain": [
              "        id  season       city        date                        team1  \\\n",
              "33      34    2017     Rajkot  2017-04-29                Gujarat Lions   \n",
              "125    126    2009  Cape Town  2009-04-23             Rajasthan Royals   \n",
              "189    190    2010    Chennai  2010-03-21              Kings XI Punjab   \n",
              "300    301    2011      Delhi  2011-05-21               Delhi Capitals   \n",
              "387    388    2013  Hyderabad  2013-04-07  Royal Challengers Bangalore   \n",
              "400    401    2013  Bangalore  2013-04-16               Delhi Capitals   \n",
              "475    476    2014  Abu Dhabi  2014-04-29             Rajasthan Royals   \n",
              "535    536    2015  Ahmedabad  2015-04-21             Rajasthan Royals   \n",
              "545    546    2015  Bangalore  2015-04-29  Royal Challengers Bangalore   \n",
              "570    571    2015  Bangalore  2015-05-17               Delhi Capitals   \n",
              "705  11146    2019      Delhi    30/03/19        Kolkata Knight Riders   \n",
              "744  11340    2019  Bengaluru    30/04/19  Royal Challengers Bangalore   \n",
              "746  11342    2019     Mumbai    02/05/19               Mumbai Indians   \n",
              "\n",
              "                           team2                  toss_winner toss_decision  \\\n",
              "33                Mumbai Indians                Gujarat Lions           bat   \n",
              "125        Kolkata Knight Riders        Kolkata Knight Riders         field   \n",
              "189          Chennai Super Kings          Chennai Super Kings         field   \n",
              "300                Pune Warriors             Delhi Daredevils           bat   \n",
              "387          Sunrisers Hyderabad  Royal Challengers Bangalore           bat   \n",
              "400  Royal Challengers Bangalore  Royal Challengers Bangalore         field   \n",
              "475        Kolkata Knight Riders             Rajasthan Royals           bat   \n",
              "535              Kings XI Punjab              Kings XI Punjab         field   \n",
              "545             Rajasthan Royals             Rajasthan Royals         field   \n",
              "570  Royal Challengers Bangalore  Royal Challengers Bangalore         field   \n",
              "705               Delhi Capitals               Delhi Capitals         field   \n",
              "744             Rajasthan Royals             Rajasthan Royals         field   \n",
              "746          Sunrisers Hyderabad               Mumbai Indians           bat   \n",
              "\n",
              "        result  dl_applied                       winner  win_by_runs  \\\n",
              "33         tie           0               Mumbai Indians            0   \n",
              "125        tie           0             Rajasthan Royals            0   \n",
              "189        tie           0              Kings XI Punjab            0   \n",
              "300  no result           0                          NaN            0   \n",
              "387        tie           0          Sunrisers Hyderabad            0   \n",
              "400        tie           0  Royal Challengers Bangalore            0   \n",
              "475        tie           0             Rajasthan Royals            0   \n",
              "535        tie           0              Kings XI Punjab            0   \n",
              "545  no result           0                          NaN            0   \n",
              "570  no result           0                          NaN            0   \n",
              "705        tie           0               Delhi Capitals            0   \n",
              "744  no result           0                          NaN            0   \n",
              "746        tie           0               Mumbai Indians            0   \n",
              "\n",
              "     win_by_wickets player_of_match                                      venue  \n",
              "33                0       KH Pandya     Saurashtra Cricket Association Stadium  \n",
              "125               0       YK Pathan                                   Newlands  \n",
              "189               0        J Theron            MA Chidambaram Stadium, Chepauk  \n",
              "300               0             NaN                           Feroz Shah Kotla  \n",
              "387               0       GH Vihari  Rajiv Gandhi International Stadium, Uppal  \n",
              "400               0         V Kohli                      M Chinnaswamy Stadium  \n",
              "475               0     JP Faulkner                       Sheikh Zayed Stadium  \n",
              "535               0        SE Marsh               Sardar Patel Stadium, Motera  \n",
              "545               0             NaN                      M Chinnaswamy Stadium  \n",
              "570               0             NaN                      M Chinnaswamy Stadium  \n",
              "705               0          P Shaw                    Feroz Shah Kotla Ground  \n",
              "744               0             NaN                     M. Chinnaswamy Stadium  \n",
              "746               0       JJ Bumrah                           Wankhede Stadium  "
            ]
          },
          "metadata": {
            "tags": []
          },
          "execution_count": 24
        }
      ]
    },
    {
      "cell_type": "code",
      "metadata": {
        "id": "wRXtTlAbZdjV",
        "outputId": "be27a1c1-c21a-41bd-c248-d1edae9facf4"
      },
      "source": [
        "matches_df.info()"
      ],
      "execution_count": null,
      "outputs": [
        {
          "output_type": "stream",
          "text": [
            "<class 'pandas.core.frame.DataFrame'>\n",
            "RangeIndex: 756 entries, 0 to 755\n",
            "Data columns (total 15 columns):\n",
            " #   Column           Non-Null Count  Dtype \n",
            "---  ------           --------------  ----- \n",
            " 0   id               756 non-null    int64 \n",
            " 1   season           756 non-null    int64 \n",
            " 2   city             756 non-null    object\n",
            " 3   date             756 non-null    object\n",
            " 4   team1            756 non-null    object\n",
            " 5   team2            756 non-null    object\n",
            " 6   toss_winner      756 non-null    object\n",
            " 7   toss_decision    756 non-null    object\n",
            " 8   result           756 non-null    object\n",
            " 9   dl_applied       756 non-null    int64 \n",
            " 10  winner           752 non-null    object\n",
            " 11  win_by_runs      756 non-null    int64 \n",
            " 12  win_by_wickets   756 non-null    int64 \n",
            " 13  player_of_match  752 non-null    object\n",
            " 14  venue            756 non-null    object\n",
            "dtypes: int64(5), object(10)\n",
            "memory usage: 88.7+ KB\n"
          ],
          "name": "stdout"
        }
      ]
    },
    {
      "cell_type": "code",
      "metadata": {
        "id": "TwqB3xo-ZdjV",
        "outputId": "01816fc3-a75f-4678-c90f-f7c871b6d335"
      },
      "source": [
        "#Finding the rows where the winner is NaN\n",
        "matches_df[matches_df.winner.isna()]"
      ],
      "execution_count": null,
      "outputs": [
        {
          "output_type": "execute_result",
          "data": {
            "text/html": [
              "<div>\n",
              "<style scoped>\n",
              "    .dataframe tbody tr th:only-of-type {\n",
              "        vertical-align: middle;\n",
              "    }\n",
              "\n",
              "    .dataframe tbody tr th {\n",
              "        vertical-align: top;\n",
              "    }\n",
              "\n",
              "    .dataframe thead th {\n",
              "        text-align: right;\n",
              "    }\n",
              "</style>\n",
              "<table border=\"1\" class=\"dataframe\">\n",
              "  <thead>\n",
              "    <tr style=\"text-align: right;\">\n",
              "      <th></th>\n",
              "      <th>id</th>\n",
              "      <th>season</th>\n",
              "      <th>city</th>\n",
              "      <th>date</th>\n",
              "      <th>team1</th>\n",
              "      <th>team2</th>\n",
              "      <th>toss_winner</th>\n",
              "      <th>toss_decision</th>\n",
              "      <th>result</th>\n",
              "      <th>dl_applied</th>\n",
              "      <th>winner</th>\n",
              "      <th>win_by_runs</th>\n",
              "      <th>win_by_wickets</th>\n",
              "      <th>player_of_match</th>\n",
              "      <th>venue</th>\n",
              "    </tr>\n",
              "  </thead>\n",
              "  <tbody>\n",
              "    <tr>\n",
              "      <th>300</th>\n",
              "      <td>301</td>\n",
              "      <td>2011</td>\n",
              "      <td>Delhi</td>\n",
              "      <td>2011-05-21</td>\n",
              "      <td>Delhi Capitals</td>\n",
              "      <td>Pune Warriors</td>\n",
              "      <td>Delhi Daredevils</td>\n",
              "      <td>bat</td>\n",
              "      <td>no result</td>\n",
              "      <td>0</td>\n",
              "      <td>NaN</td>\n",
              "      <td>0</td>\n",
              "      <td>0</td>\n",
              "      <td>NaN</td>\n",
              "      <td>Feroz Shah Kotla</td>\n",
              "    </tr>\n",
              "    <tr>\n",
              "      <th>545</th>\n",
              "      <td>546</td>\n",
              "      <td>2015</td>\n",
              "      <td>Bangalore</td>\n",
              "      <td>2015-04-29</td>\n",
              "      <td>Royal Challengers Bangalore</td>\n",
              "      <td>Rajasthan Royals</td>\n",
              "      <td>Rajasthan Royals</td>\n",
              "      <td>field</td>\n",
              "      <td>no result</td>\n",
              "      <td>0</td>\n",
              "      <td>NaN</td>\n",
              "      <td>0</td>\n",
              "      <td>0</td>\n",
              "      <td>NaN</td>\n",
              "      <td>M Chinnaswamy Stadium</td>\n",
              "    </tr>\n",
              "    <tr>\n",
              "      <th>570</th>\n",
              "      <td>571</td>\n",
              "      <td>2015</td>\n",
              "      <td>Bangalore</td>\n",
              "      <td>2015-05-17</td>\n",
              "      <td>Delhi Capitals</td>\n",
              "      <td>Royal Challengers Bangalore</td>\n",
              "      <td>Royal Challengers Bangalore</td>\n",
              "      <td>field</td>\n",
              "      <td>no result</td>\n",
              "      <td>0</td>\n",
              "      <td>NaN</td>\n",
              "      <td>0</td>\n",
              "      <td>0</td>\n",
              "      <td>NaN</td>\n",
              "      <td>M Chinnaswamy Stadium</td>\n",
              "    </tr>\n",
              "    <tr>\n",
              "      <th>744</th>\n",
              "      <td>11340</td>\n",
              "      <td>2019</td>\n",
              "      <td>Bengaluru</td>\n",
              "      <td>30/04/19</td>\n",
              "      <td>Royal Challengers Bangalore</td>\n",
              "      <td>Rajasthan Royals</td>\n",
              "      <td>Rajasthan Royals</td>\n",
              "      <td>field</td>\n",
              "      <td>no result</td>\n",
              "      <td>0</td>\n",
              "      <td>NaN</td>\n",
              "      <td>0</td>\n",
              "      <td>0</td>\n",
              "      <td>NaN</td>\n",
              "      <td>M. Chinnaswamy Stadium</td>\n",
              "    </tr>\n",
              "  </tbody>\n",
              "</table>\n",
              "</div>"
            ],
            "text/plain": [
              "        id  season       city        date                        team1  \\\n",
              "300    301    2011      Delhi  2011-05-21               Delhi Capitals   \n",
              "545    546    2015  Bangalore  2015-04-29  Royal Challengers Bangalore   \n",
              "570    571    2015  Bangalore  2015-05-17               Delhi Capitals   \n",
              "744  11340    2019  Bengaluru    30/04/19  Royal Challengers Bangalore   \n",
              "\n",
              "                           team2                  toss_winner toss_decision  \\\n",
              "300                Pune Warriors             Delhi Daredevils           bat   \n",
              "545             Rajasthan Royals             Rajasthan Royals         field   \n",
              "570  Royal Challengers Bangalore  Royal Challengers Bangalore         field   \n",
              "744             Rajasthan Royals             Rajasthan Royals         field   \n",
              "\n",
              "        result  dl_applied winner  win_by_runs  win_by_wickets  \\\n",
              "300  no result           0    NaN            0               0   \n",
              "545  no result           0    NaN            0               0   \n",
              "570  no result           0    NaN            0               0   \n",
              "744  no result           0    NaN            0               0   \n",
              "\n",
              "    player_of_match                   venue  \n",
              "300             NaN        Feroz Shah Kotla  \n",
              "545             NaN   M Chinnaswamy Stadium  \n",
              "570             NaN   M Chinnaswamy Stadium  \n",
              "744             NaN  M. Chinnaswamy Stadium  "
            ]
          },
          "metadata": {
            "tags": []
          },
          "execution_count": 26
        }
      ]
    },
    {
      "cell_type": "markdown",
      "metadata": {
        "id": "MEh_cczEZdjV"
      },
      "source": [
        "From the above, it can be seen that in cases where there is no result, `winner` and `player_of_match` data is missing\n",
        "\n",
        "One thing you can also notice that in city there are multiple name for the same city i.e `Bangalore` and `Bengaluru`"
      ]
    },
    {
      "cell_type": "code",
      "metadata": {
        "id": "cNspkHanZdjW",
        "outputId": "2905c46a-e0f1-4a43-e179-67fe5f26dd6c"
      },
      "source": [
        "#Making Bangalore as Bengaluru\n",
        "matches_df.city.replace({'Bangalore' : 'Bengaluru'},inplace=True)\n",
        "matches_df.city.unique()"
      ],
      "execution_count": null,
      "outputs": [
        {
          "output_type": "execute_result",
          "data": {
            "text/plain": [
              "array(['Hyderabad', 'Pune', 'Rajkot', 'Indore', 'Bengaluru', 'Mumbai',\n",
              "       'Kolkata', 'Delhi', 'Chandigarh', 'Kanpur', 'Jaipur', 'Chennai',\n",
              "       'Cape Town', 'Port Elizabeth', 'Durban', 'Centurion',\n",
              "       'East London', 'Johannesburg', 'Kimberley', 'Bloemfontein',\n",
              "       'Ahmedabad', 'Cuttack', 'Nagpur', 'Dharamsala', 'Kochi',\n",
              "       'Visakhapatnam', 'Raipur', 'Ranchi', 'Abu Dhabi', 'Sharjah',\n",
              "       'Dubai', 'Mohali'], dtype=object)"
            ]
          },
          "metadata": {
            "tags": []
          },
          "execution_count": 27
        }
      ]
    },
    {
      "cell_type": "code",
      "metadata": {
        "id": "RUtAaKdSZdjW"
      },
      "source": [
        "import jovian"
      ],
      "execution_count": null,
      "outputs": []
    },
    {
      "cell_type": "code",
      "metadata": {
        "id": "-4oZHe_wZdjW",
        "outputId": "62f62398-78d5-4796-92ec-ceb5dd242a8a"
      },
      "source": [
        "jovian.commit()"
      ],
      "execution_count": null,
      "outputs": [
        {
          "output_type": "display_data",
          "data": {
            "application/javascript": [
              "window.require && require([\"base/js/namespace\"],function(Jupyter){Jupyter.notebook.save_checkpoint()})"
            ],
            "text/plain": [
              "<IPython.core.display.Javascript object>"
            ]
          },
          "metadata": {
            "tags": []
          }
        },
        {
          "output_type": "stream",
          "text": [
            "[jovian] Updating notebook \"sinhaabhiraj0/zerotopandas-course-project-starter\" on https://jovian.ai\u001b[0m\n",
            "[jovian] Committed successfully! https://jovian.ai/sinhaabhiraj0/zerotopandas-course-project-starter\u001b[0m\n"
          ],
          "name": "stdout"
        },
        {
          "output_type": "execute_result",
          "data": {
            "text/plain": [
              "'https://jovian.ai/sinhaabhiraj0/zerotopandas-course-project-starter'"
            ]
          },
          "metadata": {
            "tags": []
          },
          "execution_count": 30
        }
      ]
    },
    {
      "cell_type": "markdown",
      "metadata": {
        "id": "jGv_iOwVZdjW"
      },
      "source": [
        "## Section-2: Exploratory Analysis and Visualization\n",
        "\n",
        "This section will consist of general analysis of the matches dataframe"
      ]
    },
    {
      "cell_type": "code",
      "metadata": {
        "id": "5PzklUjWZdjX",
        "outputId": "167a9c30-cc7f-4a1a-c1d8-68eda544ae14"
      },
      "source": [
        "#Finding the number of IPL matches played till 2019\n",
        "matches_df.id.count()"
      ],
      "execution_count": null,
      "outputs": [
        {
          "output_type": "execute_result",
          "data": {
            "text/plain": [
              "756"
            ]
          },
          "metadata": {
            "tags": []
          },
          "execution_count": 31
        }
      ]
    },
    {
      "cell_type": "code",
      "metadata": {
        "id": "krKQP_GtZdjX",
        "outputId": "c209c400-2260-490d-c8d2-4b5f735a7a00"
      },
      "source": [
        "#Finding the number of teams who played IPL till 2019\n",
        "print(matches_df.team1.unique())\n",
        "print('{} different teams played the IPL from 2008-2019'.format(matches_df.team1.unique().shape[0]))"
      ],
      "execution_count": null,
      "outputs": [
        {
          "output_type": "stream",
          "text": [
            "['Sunrisers Hyderabad' 'Mumbai Indians' 'Gujarat Lions'\n",
            " 'Rising Pune Supergiant' 'Royal Challengers Bangalore'\n",
            " 'Kolkata Knight Riders' 'Delhi Capitals' 'Kings XI Punjab'\n",
            " 'Chennai Super Kings' 'Rajasthan Royals' 'Deccan Chargers'\n",
            " 'Kochi Tuskers Kerala' 'Pune Warriors']\n",
            "13 different teams played the IPL from 2008-2019\n"
          ],
          "name": "stdout"
        }
      ]
    },
    {
      "cell_type": "markdown",
      "metadata": {
        "id": "QAOgn6_2ZdjX"
      },
      "source": [
        "### NUMBER OF MATCHES IN EACH SEASON"
      ]
    },
    {
      "cell_type": "code",
      "metadata": {
        "id": "xNc7J1CJZdjX"
      },
      "source": [
        "num_matches_df = matches_df.groupby('season')[['id']].count()"
      ],
      "execution_count": null,
      "outputs": []
    },
    {
      "cell_type": "code",
      "metadata": {
        "id": "2s069tXYZdjX",
        "outputId": "717a36f0-d8af-47c1-d777-54bbc4edc605"
      },
      "source": [
        "num_matches_df"
      ],
      "execution_count": null,
      "outputs": [
        {
          "output_type": "execute_result",
          "data": {
            "text/html": [
              "<div>\n",
              "<style scoped>\n",
              "    .dataframe tbody tr th:only-of-type {\n",
              "        vertical-align: middle;\n",
              "    }\n",
              "\n",
              "    .dataframe tbody tr th {\n",
              "        vertical-align: top;\n",
              "    }\n",
              "\n",
              "    .dataframe thead th {\n",
              "        text-align: right;\n",
              "    }\n",
              "</style>\n",
              "<table border=\"1\" class=\"dataframe\">\n",
              "  <thead>\n",
              "    <tr style=\"text-align: right;\">\n",
              "      <th></th>\n",
              "      <th>id</th>\n",
              "    </tr>\n",
              "    <tr>\n",
              "      <th>season</th>\n",
              "      <th></th>\n",
              "    </tr>\n",
              "  </thead>\n",
              "  <tbody>\n",
              "    <tr>\n",
              "      <th>2008</th>\n",
              "      <td>58</td>\n",
              "    </tr>\n",
              "    <tr>\n",
              "      <th>2009</th>\n",
              "      <td>57</td>\n",
              "    </tr>\n",
              "    <tr>\n",
              "      <th>2010</th>\n",
              "      <td>60</td>\n",
              "    </tr>\n",
              "    <tr>\n",
              "      <th>2011</th>\n",
              "      <td>73</td>\n",
              "    </tr>\n",
              "    <tr>\n",
              "      <th>2012</th>\n",
              "      <td>74</td>\n",
              "    </tr>\n",
              "    <tr>\n",
              "      <th>2013</th>\n",
              "      <td>76</td>\n",
              "    </tr>\n",
              "    <tr>\n",
              "      <th>2014</th>\n",
              "      <td>60</td>\n",
              "    </tr>\n",
              "    <tr>\n",
              "      <th>2015</th>\n",
              "      <td>59</td>\n",
              "    </tr>\n",
              "    <tr>\n",
              "      <th>2016</th>\n",
              "      <td>60</td>\n",
              "    </tr>\n",
              "    <tr>\n",
              "      <th>2017</th>\n",
              "      <td>59</td>\n",
              "    </tr>\n",
              "    <tr>\n",
              "      <th>2018</th>\n",
              "      <td>60</td>\n",
              "    </tr>\n",
              "    <tr>\n",
              "      <th>2019</th>\n",
              "      <td>60</td>\n",
              "    </tr>\n",
              "  </tbody>\n",
              "</table>\n",
              "</div>"
            ],
            "text/plain": [
              "        id\n",
              "season    \n",
              "2008    58\n",
              "2009    57\n",
              "2010    60\n",
              "2011    73\n",
              "2012    74\n",
              "2013    76\n",
              "2014    60\n",
              "2015    59\n",
              "2016    60\n",
              "2017    59\n",
              "2018    60\n",
              "2019    60"
            ]
          },
          "metadata": {
            "tags": []
          },
          "execution_count": 36
        }
      ]
    },
    {
      "cell_type": "code",
      "metadata": {
        "id": "-_iEnLpSZdjY",
        "outputId": "ce803e8d-8795-4a18-fb01-d6fbf56a5b6f"
      },
      "source": [
        "#Number of matches in each season\n",
        "plt.title('Number of matches in each season',fontweight=800)\n",
        "plt.xlabel('Seasons')\n",
        "plt.ylabel('Total no. of matches')\n",
        "plt.xticks(num_matches_df.index)\n",
        "plt.bar(num_matches_df.index,num_matches_df.id,width=0.8, color=['#15244C','#FFFF48','#292734','#EF2920','#CD202D','#ECC5F2',\n",
        "               '#294A73','#242307','#158EA6','#E82865',\n",
        "               '#005DB7','#C23E25'], alpha=0.8);"
      ],
      "execution_count": null,
      "outputs": [
        {
          "output_type": "display_data",
          "data": {
            "image/png": "[encoded data removed]",
            "text/plain": [
              "<Figure size 1080x540 with 1 Axes>"
            ]
          },
          "metadata": {
            "tags": []
          }
        }
      ]
    },
    {
      "cell_type": "markdown",
      "metadata": {
        "id": "e5mHh-IYZdjY"
      },
      "source": [
        "Question emanated from the above graph:\n",
        "<b>Why number of matches are greater in 2011,2012 and 2013 ?</b>"
      ]
    },
    {
      "cell_type": "markdown",
      "metadata": {
        "id": "dGUQiBqbZdjZ"
      },
      "source": [
        "### NUMBER OF MATCHES WON BY EACH TEAM"
      ]
    },
    {
      "cell_type": "code",
      "metadata": {
        "id": "hxj5yXJSZdjZ",
        "outputId": "a335224d-b6e7-40ab-b2ce-e1cf209bd1c5"
      },
      "source": [
        "#Number of matches won by each team from 2008-2019\n",
        "\n",
        "winner_df = matches_df.groupby('winner')[['id']].count()\n",
        "winner_df=winner_df.sort_values('id', ascending=False).reset_index()\n",
        "\n",
        "winner_df.rename(columns = { 'id': 'matches_won','winner':'team'}, inplace = True)\n",
        "winner_df"
      ],
      "execution_count": null,
      "outputs": [
        {
          "output_type": "execute_result",
          "data": {
            "text/html": [
              "<div>\n",
              "<style scoped>\n",
              "    .dataframe tbody tr th:only-of-type {\n",
              "        vertical-align: middle;\n",
              "    }\n",
              "\n",
              "    .dataframe tbody tr th {\n",
              "        vertical-align: top;\n",
              "    }\n",
              "\n",
              "    .dataframe thead th {\n",
              "        text-align: right;\n",
              "    }\n",
              "</style>\n",
              "<table border=\"1\" class=\"dataframe\">\n",
              "  <thead>\n",
              "    <tr style=\"text-align: right;\">\n",
              "      <th></th>\n",
              "      <th>team</th>\n",
              "      <th>matches_won</th>\n",
              "    </tr>\n",
              "  </thead>\n",
              "  <tbody>\n",
              "    <tr>\n",
              "      <th>0</th>\n",
              "      <td>Mumbai Indians</td>\n",
              "      <td>109</td>\n",
              "    </tr>\n",
              "    <tr>\n",
              "      <th>1</th>\n",
              "      <td>Chennai Super Kings</td>\n",
              "      <td>100</td>\n",
              "    </tr>\n",
              "    <tr>\n",
              "      <th>2</th>\n",
              "      <td>Kolkata Knight Riders</td>\n",
              "      <td>92</td>\n",
              "    </tr>\n",
              "    <tr>\n",
              "      <th>3</th>\n",
              "      <td>Royal Challengers Bangalore</td>\n",
              "      <td>84</td>\n",
              "    </tr>\n",
              "    <tr>\n",
              "      <th>4</th>\n",
              "      <td>Kings XI Punjab</td>\n",
              "      <td>82</td>\n",
              "    </tr>\n",
              "    <tr>\n",
              "      <th>5</th>\n",
              "      <td>Delhi Capitals</td>\n",
              "      <td>77</td>\n",
              "    </tr>\n",
              "    <tr>\n",
              "      <th>6</th>\n",
              "      <td>Rajasthan Royals</td>\n",
              "      <td>75</td>\n",
              "    </tr>\n",
              "    <tr>\n",
              "      <th>7</th>\n",
              "      <td>Sunrisers Hyderabad</td>\n",
              "      <td>58</td>\n",
              "    </tr>\n",
              "    <tr>\n",
              "      <th>8</th>\n",
              "      <td>Deccan Chargers</td>\n",
              "      <td>29</td>\n",
              "    </tr>\n",
              "    <tr>\n",
              "      <th>9</th>\n",
              "      <td>Rising Pune Supergiant</td>\n",
              "      <td>15</td>\n",
              "    </tr>\n",
              "    <tr>\n",
              "      <th>10</th>\n",
              "      <td>Gujarat Lions</td>\n",
              "      <td>13</td>\n",
              "    </tr>\n",
              "    <tr>\n",
              "      <th>11</th>\n",
              "      <td>Pune Warriors</td>\n",
              "      <td>12</td>\n",
              "    </tr>\n",
              "    <tr>\n",
              "      <th>12</th>\n",
              "      <td>Kochi Tuskers Kerala</td>\n",
              "      <td>6</td>\n",
              "    </tr>\n",
              "  </tbody>\n",
              "</table>\n",
              "</div>"
            ],
            "text/plain": [
              "                           team  matches_won\n",
              "0                Mumbai Indians          109\n",
              "1           Chennai Super Kings          100\n",
              "2         Kolkata Knight Riders           92\n",
              "3   Royal Challengers Bangalore           84\n",
              "4               Kings XI Punjab           82\n",
              "5                Delhi Capitals           77\n",
              "6              Rajasthan Royals           75\n",
              "7           Sunrisers Hyderabad           58\n",
              "8               Deccan Chargers           29\n",
              "9        Rising Pune Supergiant           15\n",
              "10                Gujarat Lions           13\n",
              "11                Pune Warriors           12\n",
              "12         Kochi Tuskers Kerala            6"
            ]
          },
          "metadata": {
            "tags": []
          },
          "execution_count": 39
        }
      ]
    },
    {
      "cell_type": "code",
      "metadata": {
        "id": "Vp_ZI_kKZdjZ",
        "outputId": "65a56900-38ac-4ff3-82bd-24b854b42b4f"
      },
      "source": [
        "#Number of matches in each season\n",
        "plt.title('Number of matches won by each team from 2008-2019',fontweight=800)\n",
        "plt.xlabel('Teams')\n",
        "plt.ylabel('Total no. of matches won')\n",
        "plt.xticks(rotation=90,fontsize=10)\n",
        "plt.bar(winner_df.team,winner_df.matches_won, color=['#15244C','#FFFF48','#292734','#EF2920','#CD202D','#ECC5F2',\n",
        "               '#294A73','#D4480B','#242307','#FD511F','#158EA6','#E82865',\n",
        "               '#005DB7','#C23E25','#E82878'], alpha=0.8);"
      ],
      "execution_count": null,
      "outputs": [
        {
          "output_type": "display_data",
          "data": {
            "image/png": "[encoded data removed]",
            "text/plain": [
              "<Figure size 1080x540 with 1 Axes>"
            ]
          },
          "metadata": {
            "tags": []
          }
        }
      ]
    },
    {
      "cell_type": "markdown",
      "metadata": {
        "id": "-cLRjY7fZdjZ"
      },
      "source": [
        "Question from the above graph: <b>Why for some teams the number of wins are less than 20?</b>"
      ]
    },
    {
      "cell_type": "markdown",
      "metadata": {
        "id": "ph9TeAU8Zdja"
      },
      "source": [
        "### COMPARISON BETWEEN MATCHES PLAYED AND MATCHES WON BY EACH TEAM"
      ]
    },
    {
      "cell_type": "code",
      "metadata": {
        "id": "Ncz24G1dZdja",
        "outputId": "b1126eba-966c-4274-af3b-04192251c936"
      },
      "source": [
        "#Total Number of matches played by each team\n",
        "matches_team = pd.concat([matches_df['team1'],matches_df['team2']])\n",
        "matches_team_df=matches_team.value_counts().reset_index()  \n",
        "#value_counts() return a Series containing counts of unique values.\n",
        "#Series.reset_index() function generate a new DataFrame or Series with the index reset\n",
        "\n",
        "matches_team_df.columns=['team','total_matches']   #Make two Columns Teams and Total Matches\n",
        "merged_stats_df=matches_team_df.merge(winner_df,on='team')\n",
        "merged_stats_df.set_index('team',inplace=True)     #Sets Team as index\n",
        "merged_stats_df['winning_percent'] = (merged_stats_df.matches_won/merged_stats_df.total_matches)*100\n",
        "merged_stats_df"
      ],
      "execution_count": null,
      "outputs": [
        {
          "output_type": "execute_result",
          "data": {
            "text/html": [
              "<div>\n",
              "<style scoped>\n",
              "    .dataframe tbody tr th:only-of-type {\n",
              "        vertical-align: middle;\n",
              "    }\n",
              "\n",
              "    .dataframe tbody tr th {\n",
              "        vertical-align: top;\n",
              "    }\n",
              "\n",
              "    .dataframe thead th {\n",
              "        text-align: right;\n",
              "    }\n",
              "</style>\n",
              "<table border=\"1\" class=\"dataframe\">\n",
              "  <thead>\n",
              "    <tr style=\"text-align: right;\">\n",
              "      <th></th>\n",
              "      <th>total_matches</th>\n",
              "      <th>matches_won</th>\n",
              "      <th>winning_percent</th>\n",
              "    </tr>\n",
              "    <tr>\n",
              "      <th>team</th>\n",
              "      <th></th>\n",
              "      <th></th>\n",
              "      <th></th>\n",
              "    </tr>\n",
              "  </thead>\n",
              "  <tbody>\n",
              "    <tr>\n",
              "      <th>Mumbai Indians</th>\n",
              "      <td>187</td>\n",
              "      <td>109</td>\n",
              "      <td>58.288770</td>\n",
              "    </tr>\n",
              "    <tr>\n",
              "      <th>Royal Challengers Bangalore</th>\n",
              "      <td>180</td>\n",
              "      <td>84</td>\n",
              "      <td>46.666667</td>\n",
              "    </tr>\n",
              "    <tr>\n",
              "      <th>Kolkata Knight Riders</th>\n",
              "      <td>178</td>\n",
              "      <td>92</td>\n",
              "      <td>51.685393</td>\n",
              "    </tr>\n",
              "    <tr>\n",
              "      <th>Delhi Capitals</th>\n",
              "      <td>177</td>\n",
              "      <td>77</td>\n",
              "      <td>43.502825</td>\n",
              "    </tr>\n",
              "    <tr>\n",
              "      <th>Kings XI Punjab</th>\n",
              "      <td>176</td>\n",
              "      <td>82</td>\n",
              "      <td>46.590909</td>\n",
              "    </tr>\n",
              "    <tr>\n",
              "      <th>Chennai Super Kings</th>\n",
              "      <td>164</td>\n",
              "      <td>100</td>\n",
              "      <td>60.975610</td>\n",
              "    </tr>\n",
              "    <tr>\n",
              "      <th>Rajasthan Royals</th>\n",
              "      <td>147</td>\n",
              "      <td>75</td>\n",
              "      <td>51.020408</td>\n",
              "    </tr>\n",
              "    <tr>\n",
              "      <th>Sunrisers Hyderabad</th>\n",
              "      <td>108</td>\n",
              "      <td>58</td>\n",
              "      <td>53.703704</td>\n",
              "    </tr>\n",
              "    <tr>\n",
              "      <th>Deccan Chargers</th>\n",
              "      <td>75</td>\n",
              "      <td>29</td>\n",
              "      <td>38.666667</td>\n",
              "    </tr>\n",
              "    <tr>\n",
              "      <th>Pune Warriors</th>\n",
              "      <td>46</td>\n",
              "      <td>12</td>\n",
              "      <td>26.086957</td>\n",
              "    </tr>\n",
              "    <tr>\n",
              "      <th>Rising Pune Supergiant</th>\n",
              "      <td>30</td>\n",
              "      <td>15</td>\n",
              "      <td>50.000000</td>\n",
              "    </tr>\n",
              "    <tr>\n",
              "      <th>Gujarat Lions</th>\n",
              "      <td>30</td>\n",
              "      <td>13</td>\n",
              "      <td>43.333333</td>\n",
              "    </tr>\n",
              "    <tr>\n",
              "      <th>Kochi Tuskers Kerala</th>\n",
              "      <td>14</td>\n",
              "      <td>6</td>\n",
              "      <td>42.857143</td>\n",
              "    </tr>\n",
              "  </tbody>\n",
              "</table>\n",
              "</div>"
            ],
            "text/plain": [
              "                             total_matches  matches_won  winning_percent\n",
              "team                                                                    \n",
              "Mumbai Indians                         187          109        58.288770\n",
              "Royal Challengers Bangalore            180           84        46.666667\n",
              "Kolkata Knight Riders                  178           92        51.685393\n",
              "Delhi Capitals                         177           77        43.502825\n",
              "Kings XI Punjab                        176           82        46.590909\n",
              "Chennai Super Kings                    164          100        60.975610\n",
              "Rajasthan Royals                       147           75        51.020408\n",
              "Sunrisers Hyderabad                    108           58        53.703704\n",
              "Deccan Chargers                         75           29        38.666667\n",
              "Pune Warriors                           46           12        26.086957\n",
              "Rising Pune Supergiant                  30           15        50.000000\n",
              "Gujarat Lions                           30           13        43.333333\n",
              "Kochi Tuskers Kerala                    14            6        42.857143"
            ]
          },
          "metadata": {
            "tags": []
          },
          "execution_count": 47
        }
      ]
    },
    {
      "cell_type": "code",
      "metadata": {
        "id": "8SeUC1GNZdja",
        "outputId": "37936453-ea73-433d-9cd1-da4fef35068b"
      },
      "source": [
        "plt.title('Number of matches played vs Number of matches won',fontweight=800)\n",
        "plt.xlabel('Teams')\n",
        "plt.ylabel('Total no. of matches/Winning Percent')\n",
        "plt.xticks(rotation=90)\n",
        "plt.bar(merged_stats_df.index,merged_stats_df.total_matches,alpha=0.4)\n",
        "plt.bar(merged_stats_df.index,merged_stats_df.matches_won, alpha=0.4)\n",
        "plt.plot(merged_stats_df.index,merged_stats_df.winning_percent,'x-r')\n",
        "plt.legend(['Winning Percent','Matches Played','Matches Won']);"
      ],
      "execution_count": null,
      "outputs": [
        {
          "output_type": "display_data",
          "data": {
            "image/png": "[encoded data removed]",
            "text/plain": [
              "<Figure size 1080x540 with 1 Axes>"
            ]
          },
          "metadata": {
            "tags": []
          }
        }
      ]
    },
    {
      "cell_type": "markdown",
      "metadata": {
        "id": "Xz51frxlZdja"
      },
      "source": [
        "<b>Inferences:</b>\n",
        "1. Even though Mumbai Indians has won more matches but they have also played more matches than any other teams. Thus you can see that CSK with fewer matches have highest winning percentage\n",
        "2. The question in the earlier graph can be answered here as why for some teams, the no. of wins are less than 20. This is due to less matches played by them as shown in the graph."
      ]
    },
    {
      "cell_type": "markdown",
      "metadata": {
        "id": "HqDwRGs4Zdja"
      },
      "source": [
        "### MATCHES HOSTED BY EACH CITY"
      ]
    },
    {
      "cell_type": "code",
      "metadata": {
        "id": "xKHnCir3Zdjb",
        "outputId": "28afa656-2b54-4ce8-ea85-bb8670c46436"
      },
      "source": [
        "city_df = matches_df.groupby('city')[['id']].count()\n",
        "city_df=city_df.sort_values('id', ascending=False).reset_index()\n",
        "\n",
        "city_df.rename(columns = { 'id': 'matches'}, inplace = True)\n",
        "city_df"
      ],
      "execution_count": null,
      "outputs": [
        {
          "output_type": "execute_result",
          "data": {
            "text/html": [
              "<div>\n",
              "<style scoped>\n",
              "    .dataframe tbody tr th:only-of-type {\n",
              "        vertical-align: middle;\n",
              "    }\n",
              "\n",
              "    .dataframe tbody tr th {\n",
              "        vertical-align: top;\n",
              "    }\n",
              "\n",
              "    .dataframe thead th {\n",
              "        text-align: right;\n",
              "    }\n",
              "</style>\n",
              "<table border=\"1\" class=\"dataframe\">\n",
              "  <thead>\n",
              "    <tr style=\"text-align: right;\">\n",
              "      <th></th>\n",
              "      <th>city</th>\n",
              "      <th>matches</th>\n",
              "    </tr>\n",
              "  </thead>\n",
              "  <tbody>\n",
              "    <tr>\n",
              "      <th>0</th>\n",
              "      <td>Mumbai</td>\n",
              "      <td>101</td>\n",
              "    </tr>\n",
              "    <tr>\n",
              "      <th>1</th>\n",
              "      <td>Bengaluru</td>\n",
              "      <td>80</td>\n",
              "    </tr>\n",
              "    <tr>\n",
              "      <th>2</th>\n",
              "      <td>Kolkata</td>\n",
              "      <td>77</td>\n",
              "    </tr>\n",
              "    <tr>\n",
              "      <th>3</th>\n",
              "      <td>Delhi</td>\n",
              "      <td>74</td>\n",
              "    </tr>\n",
              "    <tr>\n",
              "      <th>4</th>\n",
              "      <td>Hyderabad</td>\n",
              "      <td>64</td>\n",
              "    </tr>\n",
              "    <tr>\n",
              "      <th>5</th>\n",
              "      <td>Chennai</td>\n",
              "      <td>57</td>\n",
              "    </tr>\n",
              "    <tr>\n",
              "      <th>6</th>\n",
              "      <td>Jaipur</td>\n",
              "      <td>47</td>\n",
              "    </tr>\n",
              "    <tr>\n",
              "      <th>7</th>\n",
              "      <td>Chandigarh</td>\n",
              "      <td>46</td>\n",
              "    </tr>\n",
              "    <tr>\n",
              "      <th>8</th>\n",
              "      <td>Pune</td>\n",
              "      <td>38</td>\n",
              "    </tr>\n",
              "    <tr>\n",
              "      <th>9</th>\n",
              "      <td>Durban</td>\n",
              "      <td>15</td>\n",
              "    </tr>\n",
              "    <tr>\n",
              "      <th>10</th>\n",
              "      <td>Visakhapatnam</td>\n",
              "      <td>13</td>\n",
              "    </tr>\n",
              "    <tr>\n",
              "      <th>11</th>\n",
              "      <td>Centurion</td>\n",
              "      <td>12</td>\n",
              "    </tr>\n",
              "    <tr>\n",
              "      <th>12</th>\n",
              "      <td>Ahmedabad</td>\n",
              "      <td>12</td>\n",
              "    </tr>\n",
              "    <tr>\n",
              "      <th>13</th>\n",
              "      <td>Rajkot</td>\n",
              "      <td>10</td>\n",
              "    </tr>\n",
              "    <tr>\n",
              "      <th>14</th>\n",
              "      <td>Mohali</td>\n",
              "      <td>10</td>\n",
              "    </tr>\n",
              "    <tr>\n",
              "      <th>15</th>\n",
              "      <td>Dharamsala</td>\n",
              "      <td>9</td>\n",
              "    </tr>\n",
              "    <tr>\n",
              "      <th>16</th>\n",
              "      <td>Indore</td>\n",
              "      <td>9</td>\n",
              "    </tr>\n",
              "    <tr>\n",
              "      <th>17</th>\n",
              "      <td>Johannesburg</td>\n",
              "      <td>8</td>\n",
              "    </tr>\n",
              "    <tr>\n",
              "      <th>18</th>\n",
              "      <td>Ranchi</td>\n",
              "      <td>7</td>\n",
              "    </tr>\n",
              "    <tr>\n",
              "      <th>19</th>\n",
              "      <td>Port Elizabeth</td>\n",
              "      <td>7</td>\n",
              "    </tr>\n",
              "    <tr>\n",
              "      <th>20</th>\n",
              "      <td>Cape Town</td>\n",
              "      <td>7</td>\n",
              "    </tr>\n",
              "    <tr>\n",
              "      <th>21</th>\n",
              "      <td>Dubai</td>\n",
              "      <td>7</td>\n",
              "    </tr>\n",
              "    <tr>\n",
              "      <th>22</th>\n",
              "      <td>Cuttack</td>\n",
              "      <td>7</td>\n",
              "    </tr>\n",
              "    <tr>\n",
              "      <th>23</th>\n",
              "      <td>Abu Dhabi</td>\n",
              "      <td>7</td>\n",
              "    </tr>\n",
              "    <tr>\n",
              "      <th>24</th>\n",
              "      <td>Raipur</td>\n",
              "      <td>6</td>\n",
              "    </tr>\n",
              "    <tr>\n",
              "      <th>25</th>\n",
              "      <td>Sharjah</td>\n",
              "      <td>6</td>\n",
              "    </tr>\n",
              "    <tr>\n",
              "      <th>26</th>\n",
              "      <td>Kochi</td>\n",
              "      <td>5</td>\n",
              "    </tr>\n",
              "    <tr>\n",
              "      <th>27</th>\n",
              "      <td>Kanpur</td>\n",
              "      <td>4</td>\n",
              "    </tr>\n",
              "    <tr>\n",
              "      <th>28</th>\n",
              "      <td>Kimberley</td>\n",
              "      <td>3</td>\n",
              "    </tr>\n",
              "    <tr>\n",
              "      <th>29</th>\n",
              "      <td>Nagpur</td>\n",
              "      <td>3</td>\n",
              "    </tr>\n",
              "    <tr>\n",
              "      <th>30</th>\n",
              "      <td>East London</td>\n",
              "      <td>3</td>\n",
              "    </tr>\n",
              "    <tr>\n",
              "      <th>31</th>\n",
              "      <td>Bloemfontein</td>\n",
              "      <td>2</td>\n",
              "    </tr>\n",
              "  </tbody>\n",
              "</table>\n",
              "</div>"
            ],
            "text/plain": [
              "              city  matches\n",
              "0           Mumbai      101\n",
              "1        Bengaluru       80\n",
              "2          Kolkata       77\n",
              "3            Delhi       74\n",
              "4        Hyderabad       64\n",
              "5          Chennai       57\n",
              "6           Jaipur       47\n",
              "7       Chandigarh       46\n",
              "8             Pune       38\n",
              "9           Durban       15\n",
              "10   Visakhapatnam       13\n",
              "11       Centurion       12\n",
              "12       Ahmedabad       12\n",
              "13          Rajkot       10\n",
              "14          Mohali       10\n",
              "15      Dharamsala        9\n",
              "16          Indore        9\n",
              "17    Johannesburg        8\n",
              "18          Ranchi        7\n",
              "19  Port Elizabeth        7\n",
              "20       Cape Town        7\n",
              "21           Dubai        7\n",
              "22         Cuttack        7\n",
              "23       Abu Dhabi        7\n",
              "24          Raipur        6\n",
              "25         Sharjah        6\n",
              "26           Kochi        5\n",
              "27          Kanpur        4\n",
              "28       Kimberley        3\n",
              "29          Nagpur        3\n",
              "30     East London        3\n",
              "31    Bloemfontein        2"
            ]
          },
          "metadata": {
            "tags": []
          },
          "execution_count": 53
        }
      ]
    },
    {
      "cell_type": "code",
      "metadata": {
        "id": "gwhsEzGQZdjb",
        "outputId": "cb9e4d4b-03ac-45cc-97d8-2136bee04e06"
      },
      "source": [
        "plt.figure(figsize=(30, 15))\n",
        "plt.title('Number of matches hosted by each city from 2008-2019',fontweight=800)\n",
        "sns.barplot(y='city', x='matches', data=city_df);"
      ],
      "execution_count": null,
      "outputs": [
        {
          "output_type": "display_data",
          "data": {
            "image/png": "[encoded data removed]",
            "text/plain": [
              "<Figure size 2160x1080 with 1 Axes>"
            ]
          },
          "metadata": {
            "tags": []
          }
        }
      ]
    },
    {
      "cell_type": "code",
      "metadata": {
        "id": "bTByzffwZdjb"
      },
      "source": [
        "import jovian"
      ],
      "execution_count": null,
      "outputs": []
    },
    {
      "cell_type": "code",
      "metadata": {
        "id": "vyoyLJ04Zdjb",
        "outputId": "cbec161f-a40f-4deb-9122-b15569047ef1"
      },
      "source": [
        "jovian.commit()"
      ],
      "execution_count": null,
      "outputs": [
        {
          "output_type": "display_data",
          "data": {
            "application/javascript": [
              "window.require && require([\"base/js/namespace\"],function(Jupyter){Jupyter.notebook.save_checkpoint()})"
            ],
            "text/plain": [
              "<IPython.core.display.Javascript object>"
            ]
          },
          "metadata": {
            "tags": []
          }
        },
        {
          "output_type": "stream",
          "text": [
            "[jovian] Updating notebook \"sinhaabhiraj0/zerotopandas-course-project-starter\" on https://jovian.ai\u001b[0m\n",
            "[jovian] Committed successfully! https://jovian.ai/sinhaabhiraj0/zerotopandas-course-project-starter\u001b[0m\n"
          ],
          "name": "stdout"
        },
        {
          "output_type": "execute_result",
          "data": {
            "text/plain": [
              "'https://jovian.ai/sinhaabhiraj0/zerotopandas-course-project-starter'"
            ]
          },
          "metadata": {
            "tags": []
          },
          "execution_count": 56
        }
      ]
    },
    {
      "cell_type": "markdown",
      "metadata": {
        "id": "iOxoGPhaZdjc"
      },
      "source": [
        "## Section-3: Interesting Questions \n",
        "\n",
        "In this section the following questions will be asked:\n",
        "1. Find the number of matches where toss winner is the match winner ?\n",
        "2. Find the number of matches where team batting first is the match winner ?\n",
        "3. Total matches played between MI and CSK and which team won most matches ?\n",
        "4. Details of season winner and which team won most seasons? Also find the team which played most finals in IPL till 2019.\n",
        "5. Who are the top 10 players with most number of Man of the Match ?\n",
        "6. Why number of matches are greater in 2011,2012 and 2013 as graphically shown in Section-2?"
      ]
    },
    {
      "cell_type": "markdown",
      "metadata": {
        "id": "rnskomVNZdjc"
      },
      "source": [
        "### Q1. Find the number of matches where toss winner is the match winner ?"
      ]
    },
    {
      "cell_type": "code",
      "metadata": {
        "id": "7WDbizKpZdjc",
        "outputId": "8c840e5b-edbb-42ef-d88b-2bdff200efa8"
      },
      "source": [
        "match_toss_winner_df = matches_df[matches_df['toss_winner']==matches_df['winner']]\n",
        "\n",
        "match_toss_winner_df"
      ],
      "execution_count": null,
      "outputs": [
        {
          "output_type": "execute_result",
          "data": {
            "text/html": [
              "<div>\n",
              "<style scoped>\n",
              "    .dataframe tbody tr th:only-of-type {\n",
              "        vertical-align: middle;\n",
              "    }\n",
              "\n",
              "    .dataframe tbody tr th {\n",
              "        vertical-align: top;\n",
              "    }\n",
              "\n",
              "    .dataframe thead th {\n",
              "        text-align: right;\n",
              "    }\n",
              "</style>\n",
              "<table border=\"1\" class=\"dataframe\">\n",
              "  <thead>\n",
              "    <tr style=\"text-align: right;\">\n",
              "      <th></th>\n",
              "      <th>id</th>\n",
              "      <th>season</th>\n",
              "      <th>city</th>\n",
              "      <th>date</th>\n",
              "      <th>team1</th>\n",
              "      <th>team2</th>\n",
              "      <th>toss_winner</th>\n",
              "      <th>toss_decision</th>\n",
              "      <th>result</th>\n",
              "      <th>dl_applied</th>\n",
              "      <th>winner</th>\n",
              "      <th>win_by_runs</th>\n",
              "      <th>win_by_wickets</th>\n",
              "      <th>player_of_match</th>\n",
              "      <th>venue</th>\n",
              "    </tr>\n",
              "  </thead>\n",
              "  <tbody>\n",
              "    <tr>\n",
              "      <th>1</th>\n",
              "      <td>2</td>\n",
              "      <td>2017</td>\n",
              "      <td>Pune</td>\n",
              "      <td>2017-04-06</td>\n",
              "      <td>Mumbai Indians</td>\n",
              "      <td>Rising Pune Supergiant</td>\n",
              "      <td>Rising Pune Supergiant</td>\n",
              "      <td>field</td>\n",
              "      <td>normal</td>\n",
              "      <td>0</td>\n",
              "      <td>Rising Pune Supergiant</td>\n",
              "      <td>0</td>\n",
              "      <td>7</td>\n",
              "      <td>SPD Smith</td>\n",
              "      <td>Maharashtra Cricket Association Stadium</td>\n",
              "    </tr>\n",
              "    <tr>\n",
              "      <th>2</th>\n",
              "      <td>3</td>\n",
              "      <td>2017</td>\n",
              "      <td>Rajkot</td>\n",
              "      <td>2017-04-07</td>\n",
              "      <td>Gujarat Lions</td>\n",
              "      <td>Kolkata Knight Riders</td>\n",
              "      <td>Kolkata Knight Riders</td>\n",
              "      <td>field</td>\n",
              "      <td>normal</td>\n",
              "      <td>0</td>\n",
              "      <td>Kolkata Knight Riders</td>\n",
              "      <td>0</td>\n",
              "      <td>10</td>\n",
              "      <td>CA Lynn</td>\n",
              "      <td>Saurashtra Cricket Association Stadium</td>\n",
              "    </tr>\n",
              "    <tr>\n",
              "      <th>3</th>\n",
              "      <td>4</td>\n",
              "      <td>2017</td>\n",
              "      <td>Indore</td>\n",
              "      <td>2017-04-08</td>\n",
              "      <td>Rising Pune Supergiant</td>\n",
              "      <td>Kings XI Punjab</td>\n",
              "      <td>Kings XI Punjab</td>\n",
              "      <td>field</td>\n",
              "      <td>normal</td>\n",
              "      <td>0</td>\n",
              "      <td>Kings XI Punjab</td>\n",
              "      <td>0</td>\n",
              "      <td>6</td>\n",
              "      <td>GJ Maxwell</td>\n",
              "      <td>Holkar Cricket Stadium</td>\n",
              "    </tr>\n",
              "    <tr>\n",
              "      <th>4</th>\n",
              "      <td>5</td>\n",
              "      <td>2017</td>\n",
              "      <td>Bengaluru</td>\n",
              "      <td>2017-04-08</td>\n",
              "      <td>Royal Challengers Bangalore</td>\n",
              "      <td>Delhi Capitals</td>\n",
              "      <td>Royal Challengers Bangalore</td>\n",
              "      <td>bat</td>\n",
              "      <td>normal</td>\n",
              "      <td>0</td>\n",
              "      <td>Royal Challengers Bangalore</td>\n",
              "      <td>15</td>\n",
              "      <td>0</td>\n",
              "      <td>KM Jadhav</td>\n",
              "      <td>M Chinnaswamy Stadium</td>\n",
              "    </tr>\n",
              "    <tr>\n",
              "      <th>5</th>\n",
              "      <td>6</td>\n",
              "      <td>2017</td>\n",
              "      <td>Hyderabad</td>\n",
              "      <td>2017-04-09</td>\n",
              "      <td>Gujarat Lions</td>\n",
              "      <td>Sunrisers Hyderabad</td>\n",
              "      <td>Sunrisers Hyderabad</td>\n",
              "      <td>field</td>\n",
              "      <td>normal</td>\n",
              "      <td>0</td>\n",
              "      <td>Sunrisers Hyderabad</td>\n",
              "      <td>0</td>\n",
              "      <td>9</td>\n",
              "      <td>Rashid Khan</td>\n",
              "      <td>Rajiv Gandhi International Stadium, Uppal</td>\n",
              "    </tr>\n",
              "    <tr>\n",
              "      <th>...</th>\n",
              "      <td>...</td>\n",
              "      <td>...</td>\n",
              "      <td>...</td>\n",
              "      <td>...</td>\n",
              "      <td>...</td>\n",
              "      <td>...</td>\n",
              "      <td>...</td>\n",
              "      <td>...</td>\n",
              "      <td>...</td>\n",
              "      <td>...</td>\n",
              "      <td>...</td>\n",
              "      <td>...</td>\n",
              "      <td>...</td>\n",
              "      <td>...</td>\n",
              "      <td>...</td>\n",
              "    </tr>\n",
              "    <tr>\n",
              "      <th>750</th>\n",
              "      <td>11346</td>\n",
              "      <td>2019</td>\n",
              "      <td>Mohali</td>\n",
              "      <td>05/05/19</td>\n",
              "      <td>Chennai Super Kings</td>\n",
              "      <td>Kings XI Punjab</td>\n",
              "      <td>Kings XI Punjab</td>\n",
              "      <td>field</td>\n",
              "      <td>normal</td>\n",
              "      <td>0</td>\n",
              "      <td>Kings XI Punjab</td>\n",
              "      <td>0</td>\n",
              "      <td>6</td>\n",
              "      <td>KL Rahul</td>\n",
              "      <td>IS Bindra Stadium</td>\n",
              "    </tr>\n",
              "    <tr>\n",
              "      <th>751</th>\n",
              "      <td>11347</td>\n",
              "      <td>2019</td>\n",
              "      <td>Mumbai</td>\n",
              "      <td>05/05/19</td>\n",
              "      <td>Kolkata Knight Riders</td>\n",
              "      <td>Mumbai Indians</td>\n",
              "      <td>Mumbai Indians</td>\n",
              "      <td>field</td>\n",
              "      <td>normal</td>\n",
              "      <td>0</td>\n",
              "      <td>Mumbai Indians</td>\n",
              "      <td>0</td>\n",
              "      <td>9</td>\n",
              "      <td>HH Pandya</td>\n",
              "      <td>Wankhede Stadium</td>\n",
              "    </tr>\n",
              "    <tr>\n",
              "      <th>753</th>\n",
              "      <td>11413</td>\n",
              "      <td>2019</td>\n",
              "      <td>Visakhapatnam</td>\n",
              "      <td>08/05/19</td>\n",
              "      <td>Sunrisers Hyderabad</td>\n",
              "      <td>Delhi Capitals</td>\n",
              "      <td>Delhi Capitals</td>\n",
              "      <td>field</td>\n",
              "      <td>normal</td>\n",
              "      <td>0</td>\n",
              "      <td>Delhi Capitals</td>\n",
              "      <td>0</td>\n",
              "      <td>2</td>\n",
              "      <td>RR Pant</td>\n",
              "      <td>ACA-VDCA Stadium</td>\n",
              "    </tr>\n",
              "    <tr>\n",
              "      <th>754</th>\n",
              "      <td>11414</td>\n",
              "      <td>2019</td>\n",
              "      <td>Visakhapatnam</td>\n",
              "      <td>10/05/19</td>\n",
              "      <td>Delhi Capitals</td>\n",
              "      <td>Chennai Super Kings</td>\n",
              "      <td>Chennai Super Kings</td>\n",
              "      <td>field</td>\n",
              "      <td>normal</td>\n",
              "      <td>0</td>\n",
              "      <td>Chennai Super Kings</td>\n",
              "      <td>0</td>\n",
              "      <td>6</td>\n",
              "      <td>F du Plessis</td>\n",
              "      <td>ACA-VDCA Stadium</td>\n",
              "    </tr>\n",
              "    <tr>\n",
              "      <th>755</th>\n",
              "      <td>11415</td>\n",
              "      <td>2019</td>\n",
              "      <td>Hyderabad</td>\n",
              "      <td>12/05/19</td>\n",
              "      <td>Mumbai Indians</td>\n",
              "      <td>Chennai Super Kings</td>\n",
              "      <td>Mumbai Indians</td>\n",
              "      <td>bat</td>\n",
              "      <td>normal</td>\n",
              "      <td>0</td>\n",
              "      <td>Mumbai Indians</td>\n",
              "      <td>1</td>\n",
              "      <td>0</td>\n",
              "      <td>JJ Bumrah</td>\n",
              "      <td>Rajiv Gandhi Intl. Cricket Stadium</td>\n",
              "    </tr>\n",
              "  </tbody>\n",
              "</table>\n",
              "<p>355 rows × 15 columns</p>\n",
              "</div>"
            ],
            "text/plain": [
              "        id  season           city        date                        team1  \\\n",
              "1        2    2017           Pune  2017-04-06               Mumbai Indians   \n",
              "2        3    2017         Rajkot  2017-04-07                Gujarat Lions   \n",
              "3        4    2017         Indore  2017-04-08       Rising Pune Supergiant   \n",
              "4        5    2017      Bengaluru  2017-04-08  Royal Challengers Bangalore   \n",
              "5        6    2017      Hyderabad  2017-04-09                Gujarat Lions   \n",
              "..     ...     ...            ...         ...                          ...   \n",
              "750  11346    2019         Mohali    05/05/19          Chennai Super Kings   \n",
              "751  11347    2019         Mumbai    05/05/19        Kolkata Knight Riders   \n",
              "753  11413    2019  Visakhapatnam    08/05/19          Sunrisers Hyderabad   \n",
              "754  11414    2019  Visakhapatnam    10/05/19               Delhi Capitals   \n",
              "755  11415    2019      Hyderabad    12/05/19               Mumbai Indians   \n",
              "\n",
              "                      team2                  toss_winner toss_decision  \\\n",
              "1    Rising Pune Supergiant       Rising Pune Supergiant         field   \n",
              "2     Kolkata Knight Riders        Kolkata Knight Riders         field   \n",
              "3           Kings XI Punjab              Kings XI Punjab         field   \n",
              "4            Delhi Capitals  Royal Challengers Bangalore           bat   \n",
              "5       Sunrisers Hyderabad          Sunrisers Hyderabad         field   \n",
              "..                      ...                          ...           ...   \n",
              "750         Kings XI Punjab              Kings XI Punjab         field   \n",
              "751          Mumbai Indians               Mumbai Indians         field   \n",
              "753          Delhi Capitals               Delhi Capitals         field   \n",
              "754     Chennai Super Kings          Chennai Super Kings         field   \n",
              "755     Chennai Super Kings               Mumbai Indians           bat   \n",
              "\n",
              "     result  dl_applied                       winner  win_by_runs  \\\n",
              "1    normal           0       Rising Pune Supergiant            0   \n",
              "2    normal           0        Kolkata Knight Riders            0   \n",
              "3    normal           0              Kings XI Punjab            0   \n",
              "4    normal           0  Royal Challengers Bangalore           15   \n",
              "5    normal           0          Sunrisers Hyderabad            0   \n",
              "..      ...         ...                          ...          ...   \n",
              "750  normal           0              Kings XI Punjab            0   \n",
              "751  normal           0               Mumbai Indians            0   \n",
              "753  normal           0               Delhi Capitals            0   \n",
              "754  normal           0          Chennai Super Kings            0   \n",
              "755  normal           0               Mumbai Indians            1   \n",
              "\n",
              "     win_by_wickets player_of_match                                      venue  \n",
              "1                 7       SPD Smith    Maharashtra Cricket Association Stadium  \n",
              "2                10         CA Lynn     Saurashtra Cricket Association Stadium  \n",
              "3                 6      GJ Maxwell                     Holkar Cricket Stadium  \n",
              "4                 0       KM Jadhav                      M Chinnaswamy Stadium  \n",
              "5                 9     Rashid Khan  Rajiv Gandhi International Stadium, Uppal  \n",
              "..              ...             ...                                        ...  \n",
              "750               6        KL Rahul                          IS Bindra Stadium  \n",
              "751               9       HH Pandya                           Wankhede Stadium  \n",
              "753               2         RR Pant                           ACA-VDCA Stadium  \n",
              "754               6    F du Plessis                           ACA-VDCA Stadium  \n",
              "755               0       JJ Bumrah         Rajiv Gandhi Intl. Cricket Stadium  \n",
              "\n",
              "[355 rows x 15 columns]"
            ]
          },
          "metadata": {
            "tags": []
          },
          "execution_count": 57
        }
      ]
    },
    {
      "cell_type": "markdown",
      "metadata": {
        "id": "HlM2VNRmZdjc"
      },
      "source": [
        "The above table will also consist of those cases where result is tie and the toss winner won in super over\n",
        "Thus we have deduct those cases where result == tie in the above data frame"
      ]
    },
    {
      "cell_type": "code",
      "metadata": {
        "id": "GKlRlkaZZdjd",
        "outputId": "9d0bc4b4-f760-42e0-f2ba-a5de530409b6"
      },
      "source": [
        "#Tie result\n",
        "match_toss_winner_df = match_toss_winner_df[match_toss_winner_df.result != 'tie']\n",
        "print('There are {} matches in the IPL played till now where toss winner is the winner of the match'.format(match_toss_winner_df.id.count()))"
      ],
      "execution_count": null,
      "outputs": [
        {
          "output_type": "stream",
          "text": [
            "There are 350 matches in the IPL played till now where toss winner is the winner of the match\n"
          ],
          "name": "stdout"
        }
      ]
    },
    {
      "cell_type": "markdown",
      "metadata": {
        "id": "u37RagIrZdjd"
      },
      "source": [
        "### Q2. Find the number of matches where team batting first is the match winner ?"
      ]
    },
    {
      "cell_type": "code",
      "metadata": {
        "id": "omub6IwhZdjd",
        "outputId": "3bd21dc5-94df-4aa2-d5f7-119f4b3a778f"
      },
      "source": [
        "count_toss_winner_decision_df = match_toss_winner_df['toss_decision'].value_counts() #toss_winner decisions\n",
        "toss_loser_match_winner_df = matches_df[matches_df['toss_winner']!=matches_df['winner']] #cases where toss loser is match winner\n",
        "toss_loser_match_winner_df = toss_loser_match_winner_df[toss_loser_match_winner_df.result != 'tie'] #Removing tie cases\n",
        "count_toss_decision_loser_df = toss_loser_match_winner_df['toss_decision'].value_counts() #toss_loser decisions-will be reverse of toss_winner\n",
        "team_bat_first_won =count_toss_decision_loser_df.field+count_toss_winner_decision_df.bat\n",
        "print('Total number of matches where team batting first is the winner of the match is {}'.format(team_bat_first_won))"
      ],
      "execution_count": null,
      "outputs": [
        {
          "output_type": "stream",
          "text": [
            "Total number of matches where team batting first is the winner of the match is 350\n"
          ],
          "name": "stdout"
        }
      ]
    },
    {
      "cell_type": "markdown",
      "metadata": {
        "id": "Gohm09gaZdjd"
      },
      "source": [
        "### Q3. Total matches played between MI and CSK and which team won most matches ?"
      ]
    },
    {
      "cell_type": "code",
      "metadata": {
        "id": "RswIwiq7Zdjd",
        "outputId": "7cf6129d-48b4-49b7-87f7-bc6d0306a5ac"
      },
      "source": [
        "mi_csk=matches_df[((matches_df.team1 ==\"Mumbai Indians\") & \n",
        "                   (matches_df.team2 ==\"Chennai Super Kings\")) | \n",
        "                  \n",
        "                  ((matches_df.team2 ==\"Mumbai Indians\") & \n",
        "                   (matches_df.team1 ==\"Chennai Super Kings\"))]\n",
        "mi_csk"
      ],
      "execution_count": null,
      "outputs": [
        {
          "output_type": "execute_result",
          "data": {
            "text/html": [
              "<div>\n",
              "<style scoped>\n",
              "    .dataframe tbody tr th:only-of-type {\n",
              "        vertical-align: middle;\n",
              "    }\n",
              "\n",
              "    .dataframe tbody tr th {\n",
              "        vertical-align: top;\n",
              "    }\n",
              "\n",
              "    .dataframe thead th {\n",
              "        text-align: right;\n",
              "    }\n",
              "</style>\n",
              "<table border=\"1\" class=\"dataframe\">\n",
              "  <thead>\n",
              "    <tr style=\"text-align: right;\">\n",
              "      <th></th>\n",
              "      <th>id</th>\n",
              "      <th>season</th>\n",
              "      <th>city</th>\n",
              "      <th>date</th>\n",
              "      <th>team1</th>\n",
              "      <th>team2</th>\n",
              "      <th>toss_winner</th>\n",
              "      <th>toss_decision</th>\n",
              "      <th>result</th>\n",
              "      <th>dl_applied</th>\n",
              "      <th>winner</th>\n",
              "      <th>win_by_runs</th>\n",
              "      <th>win_by_wickets</th>\n",
              "      <th>player_of_match</th>\n",
              "      <th>venue</th>\n",
              "    </tr>\n",
              "  </thead>\n",
              "  <tbody>\n",
              "    <tr>\n",
              "      <th>66</th>\n",
              "      <td>67</td>\n",
              "      <td>2008</td>\n",
              "      <td>Chennai</td>\n",
              "      <td>2008-04-23</td>\n",
              "      <td>Chennai Super Kings</td>\n",
              "      <td>Mumbai Indians</td>\n",
              "      <td>Mumbai Indians</td>\n",
              "      <td>field</td>\n",
              "      <td>normal</td>\n",
              "      <td>0</td>\n",
              "      <td>Chennai Super Kings</td>\n",
              "      <td>6</td>\n",
              "      <td>0</td>\n",
              "      <td>ML Hayden</td>\n",
              "      <td>MA Chidambaram Stadium, Chepauk</td>\n",
              "    </tr>\n",
              "    <tr>\n",
              "      <th>95</th>\n",
              "      <td>96</td>\n",
              "      <td>2008</td>\n",
              "      <td>Mumbai</td>\n",
              "      <td>2008-05-14</td>\n",
              "      <td>Chennai Super Kings</td>\n",
              "      <td>Mumbai Indians</td>\n",
              "      <td>Mumbai Indians</td>\n",
              "      <td>field</td>\n",
              "      <td>normal</td>\n",
              "      <td>0</td>\n",
              "      <td>Mumbai Indians</td>\n",
              "      <td>0</td>\n",
              "      <td>9</td>\n",
              "      <td>ST Jayasuriya</td>\n",
              "      <td>Wankhede Stadium</td>\n",
              "    </tr>\n",
              "    <tr>\n",
              "      <th>117</th>\n",
              "      <td>118</td>\n",
              "      <td>2009</td>\n",
              "      <td>Cape Town</td>\n",
              "      <td>2009-04-18</td>\n",
              "      <td>Mumbai Indians</td>\n",
              "      <td>Chennai Super Kings</td>\n",
              "      <td>Chennai Super Kings</td>\n",
              "      <td>field</td>\n",
              "      <td>normal</td>\n",
              "      <td>0</td>\n",
              "      <td>Mumbai Indians</td>\n",
              "      <td>19</td>\n",
              "      <td>0</td>\n",
              "      <td>SR Tendulkar</td>\n",
              "      <td>Newlands</td>\n",
              "    </tr>\n",
              "    <tr>\n",
              "      <th>161</th>\n",
              "      <td>162</td>\n",
              "      <td>2009</td>\n",
              "      <td>Port Elizabeth</td>\n",
              "      <td>2009-05-16</td>\n",
              "      <td>Mumbai Indians</td>\n",
              "      <td>Chennai Super Kings</td>\n",
              "      <td>Mumbai Indians</td>\n",
              "      <td>bat</td>\n",
              "      <td>normal</td>\n",
              "      <td>0</td>\n",
              "      <td>Chennai Super Kings</td>\n",
              "      <td>0</td>\n",
              "      <td>7</td>\n",
              "      <td>ML Hayden</td>\n",
              "      <td>St George's Park</td>\n",
              "    </tr>\n",
              "    <tr>\n",
              "      <th>193</th>\n",
              "      <td>194</td>\n",
              "      <td>2010</td>\n",
              "      <td>Mumbai</td>\n",
              "      <td>2010-03-25</td>\n",
              "      <td>Chennai Super Kings</td>\n",
              "      <td>Mumbai Indians</td>\n",
              "      <td>Mumbai Indians</td>\n",
              "      <td>field</td>\n",
              "      <td>normal</td>\n",
              "      <td>0</td>\n",
              "      <td>Mumbai Indians</td>\n",
              "      <td>0</td>\n",
              "      <td>5</td>\n",
              "      <td>SR Tendulkar</td>\n",
              "      <td>Brabourne Stadium</td>\n",
              "    </tr>\n",
              "    <tr>\n",
              "      <th>210</th>\n",
              "      <td>211</td>\n",
              "      <td>2010</td>\n",
              "      <td>Chennai</td>\n",
              "      <td>2010-04-06</td>\n",
              "      <td>Chennai Super Kings</td>\n",
              "      <td>Mumbai Indians</td>\n",
              "      <td>Chennai Super Kings</td>\n",
              "      <td>bat</td>\n",
              "      <td>normal</td>\n",
              "      <td>0</td>\n",
              "      <td>Chennai Super Kings</td>\n",
              "      <td>24</td>\n",
              "      <td>0</td>\n",
              "      <td>SK Raina</td>\n",
              "      <td>MA Chidambaram Stadium, Chepauk</td>\n",
              "    </tr>\n",
              "    <tr>\n",
              "      <th>233</th>\n",
              "      <td>234</td>\n",
              "      <td>2010</td>\n",
              "      <td>Mumbai</td>\n",
              "      <td>2010-04-25</td>\n",
              "      <td>Chennai Super Kings</td>\n",
              "      <td>Mumbai Indians</td>\n",
              "      <td>Chennai Super Kings</td>\n",
              "      <td>bat</td>\n",
              "      <td>normal</td>\n",
              "      <td>0</td>\n",
              "      <td>Chennai Super Kings</td>\n",
              "      <td>22</td>\n",
              "      <td>0</td>\n",
              "      <td>SK Raina</td>\n",
              "      <td>Dr DY Patil Sports Academy</td>\n",
              "    </tr>\n",
              "    <tr>\n",
              "      <th>256</th>\n",
              "      <td>257</td>\n",
              "      <td>2011</td>\n",
              "      <td>Mumbai</td>\n",
              "      <td>2011-04-22</td>\n",
              "      <td>Mumbai Indians</td>\n",
              "      <td>Chennai Super Kings</td>\n",
              "      <td>Chennai Super Kings</td>\n",
              "      <td>field</td>\n",
              "      <td>normal</td>\n",
              "      <td>0</td>\n",
              "      <td>Mumbai Indians</td>\n",
              "      <td>8</td>\n",
              "      <td>0</td>\n",
              "      <td>Harbhajan Singh</td>\n",
              "      <td>Wankhede Stadium</td>\n",
              "    </tr>\n",
              "    <tr>\n",
              "      <th>307</th>\n",
              "      <td>308</td>\n",
              "      <td>2012</td>\n",
              "      <td>Chennai</td>\n",
              "      <td>2012-04-04</td>\n",
              "      <td>Chennai Super Kings</td>\n",
              "      <td>Mumbai Indians</td>\n",
              "      <td>Mumbai Indians</td>\n",
              "      <td>field</td>\n",
              "      <td>normal</td>\n",
              "      <td>0</td>\n",
              "      <td>Mumbai Indians</td>\n",
              "      <td>0</td>\n",
              "      <td>8</td>\n",
              "      <td>RE Levi</td>\n",
              "      <td>MA Chidambaram Stadium, Chepauk</td>\n",
              "    </tr>\n",
              "    <tr>\n",
              "      <th>354</th>\n",
              "      <td>355</td>\n",
              "      <td>2012</td>\n",
              "      <td>Mumbai</td>\n",
              "      <td>2012-05-06</td>\n",
              "      <td>Chennai Super Kings</td>\n",
              "      <td>Mumbai Indians</td>\n",
              "      <td>Mumbai Indians</td>\n",
              "      <td>field</td>\n",
              "      <td>normal</td>\n",
              "      <td>0</td>\n",
              "      <td>Mumbai Indians</td>\n",
              "      <td>0</td>\n",
              "      <td>2</td>\n",
              "      <td>DR Smith</td>\n",
              "      <td>Wankhede Stadium</td>\n",
              "    </tr>\n",
              "    <tr>\n",
              "      <th>378</th>\n",
              "      <td>379</td>\n",
              "      <td>2012</td>\n",
              "      <td>Bengaluru</td>\n",
              "      <td>2012-05-23</td>\n",
              "      <td>Chennai Super Kings</td>\n",
              "      <td>Mumbai Indians</td>\n",
              "      <td>Mumbai Indians</td>\n",
              "      <td>field</td>\n",
              "      <td>normal</td>\n",
              "      <td>0</td>\n",
              "      <td>Chennai Super Kings</td>\n",
              "      <td>38</td>\n",
              "      <td>0</td>\n",
              "      <td>MS Dhoni</td>\n",
              "      <td>M Chinnaswamy Stadium</td>\n",
              "    </tr>\n",
              "    <tr>\n",
              "      <th>385</th>\n",
              "      <td>386</td>\n",
              "      <td>2013</td>\n",
              "      <td>Chennai</td>\n",
              "      <td>2013-04-06</td>\n",
              "      <td>Mumbai Indians</td>\n",
              "      <td>Chennai Super Kings</td>\n",
              "      <td>Mumbai Indians</td>\n",
              "      <td>bat</td>\n",
              "      <td>normal</td>\n",
              "      <td>0</td>\n",
              "      <td>Mumbai Indians</td>\n",
              "      <td>9</td>\n",
              "      <td>0</td>\n",
              "      <td>KA Pollard</td>\n",
              "      <td>MA Chidambaram Stadium, Chepauk</td>\n",
              "    </tr>\n",
              "    <tr>\n",
              "      <th>429</th>\n",
              "      <td>430</td>\n",
              "      <td>2013</td>\n",
              "      <td>Mumbai</td>\n",
              "      <td>2013-05-05</td>\n",
              "      <td>Mumbai Indians</td>\n",
              "      <td>Chennai Super Kings</td>\n",
              "      <td>Mumbai Indians</td>\n",
              "      <td>bat</td>\n",
              "      <td>normal</td>\n",
              "      <td>0</td>\n",
              "      <td>Mumbai Indians</td>\n",
              "      <td>60</td>\n",
              "      <td>0</td>\n",
              "      <td>MG Johnson</td>\n",
              "      <td>Wankhede Stadium</td>\n",
              "    </tr>\n",
              "    <tr>\n",
              "      <th>453</th>\n",
              "      <td>454</td>\n",
              "      <td>2013</td>\n",
              "      <td>Delhi</td>\n",
              "      <td>2013-05-21</td>\n",
              "      <td>Chennai Super Kings</td>\n",
              "      <td>Mumbai Indians</td>\n",
              "      <td>Chennai Super Kings</td>\n",
              "      <td>bat</td>\n",
              "      <td>normal</td>\n",
              "      <td>0</td>\n",
              "      <td>Chennai Super Kings</td>\n",
              "      <td>48</td>\n",
              "      <td>0</td>\n",
              "      <td>MEK Hussey</td>\n",
              "      <td>Feroz Shah Kotla</td>\n",
              "    </tr>\n",
              "    <tr>\n",
              "      <th>456</th>\n",
              "      <td>457</td>\n",
              "      <td>2013</td>\n",
              "      <td>Kolkata</td>\n",
              "      <td>2013-05-26</td>\n",
              "      <td>Mumbai Indians</td>\n",
              "      <td>Chennai Super Kings</td>\n",
              "      <td>Mumbai Indians</td>\n",
              "      <td>bat</td>\n",
              "      <td>normal</td>\n",
              "      <td>0</td>\n",
              "      <td>Mumbai Indians</td>\n",
              "      <td>23</td>\n",
              "      <td>0</td>\n",
              "      <td>KA Pollard</td>\n",
              "      <td>Eden Gardens</td>\n",
              "    </tr>\n",
              "    <tr>\n",
              "      <th>469</th>\n",
              "      <td>470</td>\n",
              "      <td>2014</td>\n",
              "      <td>Dubai</td>\n",
              "      <td>2014-04-25</td>\n",
              "      <td>Mumbai Indians</td>\n",
              "      <td>Chennai Super Kings</td>\n",
              "      <td>Mumbai Indians</td>\n",
              "      <td>bat</td>\n",
              "      <td>normal</td>\n",
              "      <td>0</td>\n",
              "      <td>Chennai Super Kings</td>\n",
              "      <td>0</td>\n",
              "      <td>7</td>\n",
              "      <td>MM Sharma</td>\n",
              "      <td>Dubai International Cricket Stadium</td>\n",
              "    </tr>\n",
              "    <tr>\n",
              "      <th>489</th>\n",
              "      <td>490</td>\n",
              "      <td>2014</td>\n",
              "      <td>Mumbai</td>\n",
              "      <td>2014-05-10</td>\n",
              "      <td>Mumbai Indians</td>\n",
              "      <td>Chennai Super Kings</td>\n",
              "      <td>Chennai Super Kings</td>\n",
              "      <td>field</td>\n",
              "      <td>normal</td>\n",
              "      <td>0</td>\n",
              "      <td>Chennai Super Kings</td>\n",
              "      <td>0</td>\n",
              "      <td>4</td>\n",
              "      <td>DR Smith</td>\n",
              "      <td>Wankhede Stadium</td>\n",
              "    </tr>\n",
              "    <tr>\n",
              "      <th>514</th>\n",
              "      <td>515</td>\n",
              "      <td>2014</td>\n",
              "      <td>Mumbai</td>\n",
              "      <td>2014-05-28</td>\n",
              "      <td>Mumbai Indians</td>\n",
              "      <td>Chennai Super Kings</td>\n",
              "      <td>Chennai Super Kings</td>\n",
              "      <td>field</td>\n",
              "      <td>normal</td>\n",
              "      <td>0</td>\n",
              "      <td>Chennai Super Kings</td>\n",
              "      <td>0</td>\n",
              "      <td>7</td>\n",
              "      <td>SK Raina</td>\n",
              "      <td>Brabourne Stadium</td>\n",
              "    </tr>\n",
              "    <tr>\n",
              "      <th>529</th>\n",
              "      <td>530</td>\n",
              "      <td>2015</td>\n",
              "      <td>Mumbai</td>\n",
              "      <td>2015-04-17</td>\n",
              "      <td>Mumbai Indians</td>\n",
              "      <td>Chennai Super Kings</td>\n",
              "      <td>Mumbai Indians</td>\n",
              "      <td>bat</td>\n",
              "      <td>normal</td>\n",
              "      <td>0</td>\n",
              "      <td>Chennai Super Kings</td>\n",
              "      <td>0</td>\n",
              "      <td>6</td>\n",
              "      <td>A Nehra</td>\n",
              "      <td>Wankhede Stadium</td>\n",
              "    </tr>\n",
              "    <tr>\n",
              "      <th>558</th>\n",
              "      <td>559</td>\n",
              "      <td>2015</td>\n",
              "      <td>Chennai</td>\n",
              "      <td>2015-05-08</td>\n",
              "      <td>Chennai Super Kings</td>\n",
              "      <td>Mumbai Indians</td>\n",
              "      <td>Chennai Super Kings</td>\n",
              "      <td>bat</td>\n",
              "      <td>normal</td>\n",
              "      <td>0</td>\n",
              "      <td>Mumbai Indians</td>\n",
              "      <td>0</td>\n",
              "      <td>6</td>\n",
              "      <td>HH Pandya</td>\n",
              "      <td>MA Chidambaram Stadium, Chepauk</td>\n",
              "    </tr>\n",
              "    <tr>\n",
              "      <th>572</th>\n",
              "      <td>573</td>\n",
              "      <td>2015</td>\n",
              "      <td>Mumbai</td>\n",
              "      <td>2015-05-19</td>\n",
              "      <td>Mumbai Indians</td>\n",
              "      <td>Chennai Super Kings</td>\n",
              "      <td>Mumbai Indians</td>\n",
              "      <td>bat</td>\n",
              "      <td>normal</td>\n",
              "      <td>0</td>\n",
              "      <td>Mumbai Indians</td>\n",
              "      <td>25</td>\n",
              "      <td>0</td>\n",
              "      <td>KA Pollard</td>\n",
              "      <td>Wankhede Stadium</td>\n",
              "    </tr>\n",
              "    <tr>\n",
              "      <th>575</th>\n",
              "      <td>576</td>\n",
              "      <td>2015</td>\n",
              "      <td>Kolkata</td>\n",
              "      <td>2015-05-24</td>\n",
              "      <td>Mumbai Indians</td>\n",
              "      <td>Chennai Super Kings</td>\n",
              "      <td>Chennai Super Kings</td>\n",
              "      <td>field</td>\n",
              "      <td>normal</td>\n",
              "      <td>0</td>\n",
              "      <td>Mumbai Indians</td>\n",
              "      <td>41</td>\n",
              "      <td>0</td>\n",
              "      <td>RG Sharma</td>\n",
              "      <td>Eden Gardens</td>\n",
              "    </tr>\n",
              "    <tr>\n",
              "      <th>636</th>\n",
              "      <td>7894</td>\n",
              "      <td>2018</td>\n",
              "      <td>Mumbai</td>\n",
              "      <td>07/04/18</td>\n",
              "      <td>Mumbai Indians</td>\n",
              "      <td>Chennai Super Kings</td>\n",
              "      <td>Chennai Super Kings</td>\n",
              "      <td>field</td>\n",
              "      <td>normal</td>\n",
              "      <td>0</td>\n",
              "      <td>Chennai Super Kings</td>\n",
              "      <td>0</td>\n",
              "      <td>1</td>\n",
              "      <td>DJ Bravo</td>\n",
              "      <td>Wankhede Stadium</td>\n",
              "    </tr>\n",
              "    <tr>\n",
              "      <th>662</th>\n",
              "      <td>7920</td>\n",
              "      <td>2018</td>\n",
              "      <td>Pune</td>\n",
              "      <td>28/04/18</td>\n",
              "      <td>Chennai Super Kings</td>\n",
              "      <td>Mumbai Indians</td>\n",
              "      <td>Mumbai Indians</td>\n",
              "      <td>field</td>\n",
              "      <td>normal</td>\n",
              "      <td>0</td>\n",
              "      <td>Mumbai Indians</td>\n",
              "      <td>0</td>\n",
              "      <td>8</td>\n",
              "      <td>RG Sharma</td>\n",
              "      <td>Maharashtra Cricket Association Stadium</td>\n",
              "    </tr>\n",
              "    <tr>\n",
              "      <th>710</th>\n",
              "      <td>11151</td>\n",
              "      <td>2019</td>\n",
              "      <td>Mumbai</td>\n",
              "      <td>03/04/19</td>\n",
              "      <td>Mumbai Indians</td>\n",
              "      <td>Chennai Super Kings</td>\n",
              "      <td>Chennai Super Kings</td>\n",
              "      <td>field</td>\n",
              "      <td>normal</td>\n",
              "      <td>0</td>\n",
              "      <td>Mumbai Indians</td>\n",
              "      <td>37</td>\n",
              "      <td>0</td>\n",
              "      <td>HH Pandya</td>\n",
              "      <td>Wankhede Stadium</td>\n",
              "    </tr>\n",
              "    <tr>\n",
              "      <th>739</th>\n",
              "      <td>11335</td>\n",
              "      <td>2019</td>\n",
              "      <td>Chennai</td>\n",
              "      <td>26/04/19</td>\n",
              "      <td>Mumbai Indians</td>\n",
              "      <td>Chennai Super Kings</td>\n",
              "      <td>Chennai Super Kings</td>\n",
              "      <td>field</td>\n",
              "      <td>normal</td>\n",
              "      <td>0</td>\n",
              "      <td>Mumbai Indians</td>\n",
              "      <td>46</td>\n",
              "      <td>0</td>\n",
              "      <td>RG Sharma</td>\n",
              "      <td>M. A. Chidambaram Stadium</td>\n",
              "    </tr>\n",
              "    <tr>\n",
              "      <th>752</th>\n",
              "      <td>11412</td>\n",
              "      <td>2019</td>\n",
              "      <td>Chennai</td>\n",
              "      <td>07/05/19</td>\n",
              "      <td>Chennai Super Kings</td>\n",
              "      <td>Mumbai Indians</td>\n",
              "      <td>Chennai Super Kings</td>\n",
              "      <td>bat</td>\n",
              "      <td>normal</td>\n",
              "      <td>0</td>\n",
              "      <td>Mumbai Indians</td>\n",
              "      <td>0</td>\n",
              "      <td>6</td>\n",
              "      <td>AS Yadav</td>\n",
              "      <td>M. A. Chidambaram Stadium</td>\n",
              "    </tr>\n",
              "    <tr>\n",
              "      <th>755</th>\n",
              "      <td>11415</td>\n",
              "      <td>2019</td>\n",
              "      <td>Hyderabad</td>\n",
              "      <td>12/05/19</td>\n",
              "      <td>Mumbai Indians</td>\n",
              "      <td>Chennai Super Kings</td>\n",
              "      <td>Mumbai Indians</td>\n",
              "      <td>bat</td>\n",
              "      <td>normal</td>\n",
              "      <td>0</td>\n",
              "      <td>Mumbai Indians</td>\n",
              "      <td>1</td>\n",
              "      <td>0</td>\n",
              "      <td>JJ Bumrah</td>\n",
              "      <td>Rajiv Gandhi Intl. Cricket Stadium</td>\n",
              "    </tr>\n",
              "  </tbody>\n",
              "</table>\n",
              "</div>"
            ],
            "text/plain": [
              "        id  season            city        date                team1  \\\n",
              "66      67    2008         Chennai  2008-04-23  Chennai Super Kings   \n",
              "95      96    2008          Mumbai  2008-05-14  Chennai Super Kings   \n",
              "117    118    2009       Cape Town  2009-04-18       Mumbai Indians   \n",
              "161    162    2009  Port Elizabeth  2009-05-16       Mumbai Indians   \n",
              "193    194    2010          Mumbai  2010-03-25  Chennai Super Kings   \n",
              "210    211    2010         Chennai  2010-04-06  Chennai Super Kings   \n",
              "233    234    2010          Mumbai  2010-04-25  Chennai Super Kings   \n",
              "256    257    2011          Mumbai  2011-04-22       Mumbai Indians   \n",
              "307    308    2012         Chennai  2012-04-04  Chennai Super Kings   \n",
              "354    355    2012          Mumbai  2012-05-06  Chennai Super Kings   \n",
              "378    379    2012       Bengaluru  2012-05-23  Chennai Super Kings   \n",
              "385    386    2013         Chennai  2013-04-06       Mumbai Indians   \n",
              "429    430    2013          Mumbai  2013-05-05       Mumbai Indians   \n",
              "453    454    2013           Delhi  2013-05-21  Chennai Super Kings   \n",
              "456    457    2013         Kolkata  2013-05-26       Mumbai Indians   \n",
              "469    470    2014           Dubai  2014-04-25       Mumbai Indians   \n",
              "489    490    2014          Mumbai  2014-05-10       Mumbai Indians   \n",
              "514    515    2014          Mumbai  2014-05-28       Mumbai Indians   \n",
              "529    530    2015          Mumbai  2015-04-17       Mumbai Indians   \n",
              "558    559    2015         Chennai  2015-05-08  Chennai Super Kings   \n",
              "572    573    2015          Mumbai  2015-05-19       Mumbai Indians   \n",
              "575    576    2015         Kolkata  2015-05-24       Mumbai Indians   \n",
              "636   7894    2018          Mumbai    07/04/18       Mumbai Indians   \n",
              "662   7920    2018            Pune    28/04/18  Chennai Super Kings   \n",
              "710  11151    2019          Mumbai    03/04/19       Mumbai Indians   \n",
              "739  11335    2019         Chennai    26/04/19       Mumbai Indians   \n",
              "752  11412    2019         Chennai    07/05/19  Chennai Super Kings   \n",
              "755  11415    2019       Hyderabad    12/05/19       Mumbai Indians   \n",
              "\n",
              "                   team2          toss_winner toss_decision  result  \\\n",
              "66        Mumbai Indians       Mumbai Indians         field  normal   \n",
              "95        Mumbai Indians       Mumbai Indians         field  normal   \n",
              "117  Chennai Super Kings  Chennai Super Kings         field  normal   \n",
              "161  Chennai Super Kings       Mumbai Indians           bat  normal   \n",
              "193       Mumbai Indians       Mumbai Indians         field  normal   \n",
              "210       Mumbai Indians  Chennai Super Kings           bat  normal   \n",
              "233       Mumbai Indians  Chennai Super Kings           bat  normal   \n",
              "256  Chennai Super Kings  Chennai Super Kings         field  normal   \n",
              "307       Mumbai Indians       Mumbai Indians         field  normal   \n",
              "354       Mumbai Indians       Mumbai Indians         field  normal   \n",
              "378       Mumbai Indians       Mumbai Indians         field  normal   \n",
              "385  Chennai Super Kings       Mumbai Indians           bat  normal   \n",
              "429  Chennai Super Kings       Mumbai Indians           bat  normal   \n",
              "453       Mumbai Indians  Chennai Super Kings           bat  normal   \n",
              "456  Chennai Super Kings       Mumbai Indians           bat  normal   \n",
              "469  Chennai Super Kings       Mumbai Indians           bat  normal   \n",
              "489  Chennai Super Kings  Chennai Super Kings         field  normal   \n",
              "514  Chennai Super Kings  Chennai Super Kings         field  normal   \n",
              "529  Chennai Super Kings       Mumbai Indians           bat  normal   \n",
              "558       Mumbai Indians  Chennai Super Kings           bat  normal   \n",
              "572  Chennai Super Kings       Mumbai Indians           bat  normal   \n",
              "575  Chennai Super Kings  Chennai Super Kings         field  normal   \n",
              "636  Chennai Super Kings  Chennai Super Kings         field  normal   \n",
              "662       Mumbai Indians       Mumbai Indians         field  normal   \n",
              "710  Chennai Super Kings  Chennai Super Kings         field  normal   \n",
              "739  Chennai Super Kings  Chennai Super Kings         field  normal   \n",
              "752       Mumbai Indians  Chennai Super Kings           bat  normal   \n",
              "755  Chennai Super Kings       Mumbai Indians           bat  normal   \n",
              "\n",
              "     dl_applied               winner  win_by_runs  win_by_wickets  \\\n",
              "66            0  Chennai Super Kings            6               0   \n",
              "95            0       Mumbai Indians            0               9   \n",
              "117           0       Mumbai Indians           19               0   \n",
              "161           0  Chennai Super Kings            0               7   \n",
              "193           0       Mumbai Indians            0               5   \n",
              "210           0  Chennai Super Kings           24               0   \n",
              "233           0  Chennai Super Kings           22               0   \n",
              "256           0       Mumbai Indians            8               0   \n",
              "307           0       Mumbai Indians            0               8   \n",
              "354           0       Mumbai Indians            0               2   \n",
              "378           0  Chennai Super Kings           38               0   \n",
              "385           0       Mumbai Indians            9               0   \n",
              "429           0       Mumbai Indians           60               0   \n",
              "453           0  Chennai Super Kings           48               0   \n",
              "456           0       Mumbai Indians           23               0   \n",
              "469           0  Chennai Super Kings            0               7   \n",
              "489           0  Chennai Super Kings            0               4   \n",
              "514           0  Chennai Super Kings            0               7   \n",
              "529           0  Chennai Super Kings            0               6   \n",
              "558           0       Mumbai Indians            0               6   \n",
              "572           0       Mumbai Indians           25               0   \n",
              "575           0       Mumbai Indians           41               0   \n",
              "636           0  Chennai Super Kings            0               1   \n",
              "662           0       Mumbai Indians            0               8   \n",
              "710           0       Mumbai Indians           37               0   \n",
              "739           0       Mumbai Indians           46               0   \n",
              "752           0       Mumbai Indians            0               6   \n",
              "755           0       Mumbai Indians            1               0   \n",
              "\n",
              "     player_of_match                                    venue  \n",
              "66         ML Hayden          MA Chidambaram Stadium, Chepauk  \n",
              "95     ST Jayasuriya                         Wankhede Stadium  \n",
              "117     SR Tendulkar                                 Newlands  \n",
              "161        ML Hayden                         St George's Park  \n",
              "193     SR Tendulkar                        Brabourne Stadium  \n",
              "210         SK Raina          MA Chidambaram Stadium, Chepauk  \n",
              "233         SK Raina               Dr DY Patil Sports Academy  \n",
              "256  Harbhajan Singh                         Wankhede Stadium  \n",
              "307          RE Levi          MA Chidambaram Stadium, Chepauk  \n",
              "354         DR Smith                         Wankhede Stadium  \n",
              "378         MS Dhoni                    M Chinnaswamy Stadium  \n",
              "385       KA Pollard          MA Chidambaram Stadium, Chepauk  \n",
              "429       MG Johnson                         Wankhede Stadium  \n",
              "453       MEK Hussey                         Feroz Shah Kotla  \n",
              "456       KA Pollard                             Eden Gardens  \n",
              "469        MM Sharma      Dubai International Cricket Stadium  \n",
              "489         DR Smith                         Wankhede Stadium  \n",
              "514         SK Raina                        Brabourne Stadium  \n",
              "529          A Nehra                         Wankhede Stadium  \n",
              "558        HH Pandya          MA Chidambaram Stadium, Chepauk  \n",
              "572       KA Pollard                         Wankhede Stadium  \n",
              "575        RG Sharma                             Eden Gardens  \n",
              "636         DJ Bravo                         Wankhede Stadium  \n",
              "662        RG Sharma  Maharashtra Cricket Association Stadium  \n",
              "710        HH Pandya                         Wankhede Stadium  \n",
              "739        RG Sharma                M. A. Chidambaram Stadium  \n",
              "752         AS Yadav                M. A. Chidambaram Stadium  \n",
              "755        JJ Bumrah       Rajiv Gandhi Intl. Cricket Stadium  "
            ]
          },
          "metadata": {
            "tags": []
          },
          "execution_count": 60
        }
      ]
    },
    {
      "cell_type": "code",
      "metadata": {
        "id": "-8bS6JmwZdje",
        "outputId": "ed39727e-5cbb-404b-ff3c-9c01cc72aae9"
      },
      "source": [
        "plt.title('MI vs CSK')\n",
        "sns.countplot(x=mi_csk['winner'],palette=['#FFFF48','#15244C'])\n",
        "plt.text(-0.1,9,s=mi_csk['winner'].value_counts()['Chennai Super Kings'], color='white', size=40)\n",
        "plt.text(0.95,15,s=mi_csk['winner'].value_counts()['Mumbai Indians'], color='white', size=40);"
      ],
      "execution_count": null,
      "outputs": [
        {
          "output_type": "display_data",
          "data": {
            "image/png": "[encoded data removed]",
            "text/plain": [
              "<Figure size 1080x540 with 1 Axes>"
            ]
          },
          "metadata": {
            "tags": []
          }
        }
      ]
    },
    {
      "cell_type": "markdown",
      "metadata": {
        "id": "Z26zCDvrZdje"
      },
      "source": [
        "### Q4. Details of season winner and which team won most seasons? Also find the team which played most finals in IPL till 2019."
      ]
    },
    {
      "cell_type": "code",
      "metadata": {
        "id": "0Ll179xAZdje",
        "outputId": "603998ac-73cd-47b9-f6b8-79a4749a7399"
      },
      "source": [
        "#Creating a dataframe of final matches\n",
        "final_match_df = matches_df.groupby('season').tail(1).sort_values('season').reset_index()\n",
        "final_match_df"
      ],
      "execution_count": null,
      "outputs": [
        {
          "output_type": "execute_result",
          "data": {
            "text/html": [
              "<div>\n",
              "<style scoped>\n",
              "    .dataframe tbody tr th:only-of-type {\n",
              "        vertical-align: middle;\n",
              "    }\n",
              "\n",
              "    .dataframe tbody tr th {\n",
              "        vertical-align: top;\n",
              "    }\n",
              "\n",
              "    .dataframe thead th {\n",
              "        text-align: right;\n",
              "    }\n",
              "</style>\n",
              "<table border=\"1\" class=\"dataframe\">\n",
              "  <thead>\n",
              "    <tr style=\"text-align: right;\">\n",
              "      <th></th>\n",
              "      <th>index</th>\n",
              "      <th>id</th>\n",
              "      <th>season</th>\n",
              "      <th>city</th>\n",
              "      <th>date</th>\n",
              "      <th>team1</th>\n",
              "      <th>team2</th>\n",
              "      <th>toss_winner</th>\n",
              "      <th>toss_decision</th>\n",
              "      <th>result</th>\n",
              "      <th>dl_applied</th>\n",
              "      <th>winner</th>\n",
              "      <th>win_by_runs</th>\n",
              "      <th>win_by_wickets</th>\n",
              "      <th>player_of_match</th>\n",
              "      <th>venue</th>\n",
              "    </tr>\n",
              "  </thead>\n",
              "  <tbody>\n",
              "    <tr>\n",
              "      <th>0</th>\n",
              "      <td>116</td>\n",
              "      <td>117</td>\n",
              "      <td>2008</td>\n",
              "      <td>Mumbai</td>\n",
              "      <td>2008-06-01</td>\n",
              "      <td>Chennai Super Kings</td>\n",
              "      <td>Rajasthan Royals</td>\n",
              "      <td>Rajasthan Royals</td>\n",
              "      <td>field</td>\n",
              "      <td>normal</td>\n",
              "      <td>0</td>\n",
              "      <td>Rajasthan Royals</td>\n",
              "      <td>0</td>\n",
              "      <td>3</td>\n",
              "      <td>YK Pathan</td>\n",
              "      <td>Dr DY Patil Sports Academy</td>\n",
              "    </tr>\n",
              "    <tr>\n",
              "      <th>1</th>\n",
              "      <td>173</td>\n",
              "      <td>174</td>\n",
              "      <td>2009</td>\n",
              "      <td>Johannesburg</td>\n",
              "      <td>2009-05-24</td>\n",
              "      <td>Deccan Chargers</td>\n",
              "      <td>Royal Challengers Bangalore</td>\n",
              "      <td>Royal Challengers Bangalore</td>\n",
              "      <td>field</td>\n",
              "      <td>normal</td>\n",
              "      <td>0</td>\n",
              "      <td>Deccan Chargers</td>\n",
              "      <td>6</td>\n",
              "      <td>0</td>\n",
              "      <td>A Kumble</td>\n",
              "      <td>New Wanderers Stadium</td>\n",
              "    </tr>\n",
              "    <tr>\n",
              "      <th>2</th>\n",
              "      <td>233</td>\n",
              "      <td>234</td>\n",
              "      <td>2010</td>\n",
              "      <td>Mumbai</td>\n",
              "      <td>2010-04-25</td>\n",
              "      <td>Chennai Super Kings</td>\n",
              "      <td>Mumbai Indians</td>\n",
              "      <td>Chennai Super Kings</td>\n",
              "      <td>bat</td>\n",
              "      <td>normal</td>\n",
              "      <td>0</td>\n",
              "      <td>Chennai Super Kings</td>\n",
              "      <td>22</td>\n",
              "      <td>0</td>\n",
              "      <td>SK Raina</td>\n",
              "      <td>Dr DY Patil Sports Academy</td>\n",
              "    </tr>\n",
              "    <tr>\n",
              "      <th>3</th>\n",
              "      <td>306</td>\n",
              "      <td>307</td>\n",
              "      <td>2011</td>\n",
              "      <td>Chennai</td>\n",
              "      <td>2011-05-28</td>\n",
              "      <td>Chennai Super Kings</td>\n",
              "      <td>Royal Challengers Bangalore</td>\n",
              "      <td>Chennai Super Kings</td>\n",
              "      <td>bat</td>\n",
              "      <td>normal</td>\n",
              "      <td>0</td>\n",
              "      <td>Chennai Super Kings</td>\n",
              "      <td>58</td>\n",
              "      <td>0</td>\n",
              "      <td>M Vijay</td>\n",
              "      <td>MA Chidambaram Stadium, Chepauk</td>\n",
              "    </tr>\n",
              "    <tr>\n",
              "      <th>4</th>\n",
              "      <td>380</td>\n",
              "      <td>381</td>\n",
              "      <td>2012</td>\n",
              "      <td>Chennai</td>\n",
              "      <td>2012-05-27</td>\n",
              "      <td>Chennai Super Kings</td>\n",
              "      <td>Kolkata Knight Riders</td>\n",
              "      <td>Chennai Super Kings</td>\n",
              "      <td>bat</td>\n",
              "      <td>normal</td>\n",
              "      <td>0</td>\n",
              "      <td>Kolkata Knight Riders</td>\n",
              "      <td>0</td>\n",
              "      <td>5</td>\n",
              "      <td>MS Bisla</td>\n",
              "      <td>MA Chidambaram Stadium, Chepauk</td>\n",
              "    </tr>\n",
              "    <tr>\n",
              "      <th>5</th>\n",
              "      <td>456</td>\n",
              "      <td>457</td>\n",
              "      <td>2013</td>\n",
              "      <td>Kolkata</td>\n",
              "      <td>2013-05-26</td>\n",
              "      <td>Mumbai Indians</td>\n",
              "      <td>Chennai Super Kings</td>\n",
              "      <td>Mumbai Indians</td>\n",
              "      <td>bat</td>\n",
              "      <td>normal</td>\n",
              "      <td>0</td>\n",
              "      <td>Mumbai Indians</td>\n",
              "      <td>23</td>\n",
              "      <td>0</td>\n",
              "      <td>KA Pollard</td>\n",
              "      <td>Eden Gardens</td>\n",
              "    </tr>\n",
              "    <tr>\n",
              "      <th>6</th>\n",
              "      <td>516</td>\n",
              "      <td>517</td>\n",
              "      <td>2014</td>\n",
              "      <td>Bengaluru</td>\n",
              "      <td>2014-06-01</td>\n",
              "      <td>Kings XI Punjab</td>\n",
              "      <td>Kolkata Knight Riders</td>\n",
              "      <td>Kolkata Knight Riders</td>\n",
              "      <td>field</td>\n",
              "      <td>normal</td>\n",
              "      <td>0</td>\n",
              "      <td>Kolkata Knight Riders</td>\n",
              "      <td>0</td>\n",
              "      <td>3</td>\n",
              "      <td>MK Pandey</td>\n",
              "      <td>M Chinnaswamy Stadium</td>\n",
              "    </tr>\n",
              "    <tr>\n",
              "      <th>7</th>\n",
              "      <td>575</td>\n",
              "      <td>576</td>\n",
              "      <td>2015</td>\n",
              "      <td>Kolkata</td>\n",
              "      <td>2015-05-24</td>\n",
              "      <td>Mumbai Indians</td>\n",
              "      <td>Chennai Super Kings</td>\n",
              "      <td>Chennai Super Kings</td>\n",
              "      <td>field</td>\n",
              "      <td>normal</td>\n",
              "      <td>0</td>\n",
              "      <td>Mumbai Indians</td>\n",
              "      <td>41</td>\n",
              "      <td>0</td>\n",
              "      <td>RG Sharma</td>\n",
              "      <td>Eden Gardens</td>\n",
              "    </tr>\n",
              "    <tr>\n",
              "      <th>8</th>\n",
              "      <td>635</td>\n",
              "      <td>636</td>\n",
              "      <td>2016</td>\n",
              "      <td>Bengaluru</td>\n",
              "      <td>2016-05-29</td>\n",
              "      <td>Sunrisers Hyderabad</td>\n",
              "      <td>Royal Challengers Bangalore</td>\n",
              "      <td>Sunrisers Hyderabad</td>\n",
              "      <td>bat</td>\n",
              "      <td>normal</td>\n",
              "      <td>0</td>\n",
              "      <td>Sunrisers Hyderabad</td>\n",
              "      <td>8</td>\n",
              "      <td>0</td>\n",
              "      <td>BCJ Cutting</td>\n",
              "      <td>M Chinnaswamy Stadium</td>\n",
              "    </tr>\n",
              "    <tr>\n",
              "      <th>9</th>\n",
              "      <td>58</td>\n",
              "      <td>59</td>\n",
              "      <td>2017</td>\n",
              "      <td>Hyderabad</td>\n",
              "      <td>2017-05-21</td>\n",
              "      <td>Mumbai Indians</td>\n",
              "      <td>Rising Pune Supergiant</td>\n",
              "      <td>Mumbai Indians</td>\n",
              "      <td>bat</td>\n",
              "      <td>normal</td>\n",
              "      <td>0</td>\n",
              "      <td>Mumbai Indians</td>\n",
              "      <td>1</td>\n",
              "      <td>0</td>\n",
              "      <td>KH Pandya</td>\n",
              "      <td>Rajiv Gandhi International Stadium, Uppal</td>\n",
              "    </tr>\n",
              "    <tr>\n",
              "      <th>10</th>\n",
              "      <td>695</td>\n",
              "      <td>7953</td>\n",
              "      <td>2018</td>\n",
              "      <td>Mumbai</td>\n",
              "      <td>27/05/18</td>\n",
              "      <td>Sunrisers Hyderabad</td>\n",
              "      <td>Chennai Super Kings</td>\n",
              "      <td>Chennai Super Kings</td>\n",
              "      <td>field</td>\n",
              "      <td>normal</td>\n",
              "      <td>0</td>\n",
              "      <td>Chennai Super Kings</td>\n",
              "      <td>0</td>\n",
              "      <td>8</td>\n",
              "      <td>SR Watson</td>\n",
              "      <td>Wankhede Stadium</td>\n",
              "    </tr>\n",
              "    <tr>\n",
              "      <th>11</th>\n",
              "      <td>755</td>\n",
              "      <td>11415</td>\n",
              "      <td>2019</td>\n",
              "      <td>Hyderabad</td>\n",
              "      <td>12/05/19</td>\n",
              "      <td>Mumbai Indians</td>\n",
              "      <td>Chennai Super Kings</td>\n",
              "      <td>Mumbai Indians</td>\n",
              "      <td>bat</td>\n",
              "      <td>normal</td>\n",
              "      <td>0</td>\n",
              "      <td>Mumbai Indians</td>\n",
              "      <td>1</td>\n",
              "      <td>0</td>\n",
              "      <td>JJ Bumrah</td>\n",
              "      <td>Rajiv Gandhi Intl. Cricket Stadium</td>\n",
              "    </tr>\n",
              "  </tbody>\n",
              "</table>\n",
              "</div>"
            ],
            "text/plain": [
              "    index     id  season          city        date                team1  \\\n",
              "0     116    117    2008        Mumbai  2008-06-01  Chennai Super Kings   \n",
              "1     173    174    2009  Johannesburg  2009-05-24      Deccan Chargers   \n",
              "2     233    234    2010        Mumbai  2010-04-25  Chennai Super Kings   \n",
              "3     306    307    2011       Chennai  2011-05-28  Chennai Super Kings   \n",
              "4     380    381    2012       Chennai  2012-05-27  Chennai Super Kings   \n",
              "5     456    457    2013       Kolkata  2013-05-26       Mumbai Indians   \n",
              "6     516    517    2014     Bengaluru  2014-06-01      Kings XI Punjab   \n",
              "7     575    576    2015       Kolkata  2015-05-24       Mumbai Indians   \n",
              "8     635    636    2016     Bengaluru  2016-05-29  Sunrisers Hyderabad   \n",
              "9      58     59    2017     Hyderabad  2017-05-21       Mumbai Indians   \n",
              "10    695   7953    2018        Mumbai    27/05/18  Sunrisers Hyderabad   \n",
              "11    755  11415    2019     Hyderabad    12/05/19       Mumbai Indians   \n",
              "\n",
              "                          team2                  toss_winner toss_decision  \\\n",
              "0              Rajasthan Royals             Rajasthan Royals         field   \n",
              "1   Royal Challengers Bangalore  Royal Challengers Bangalore         field   \n",
              "2                Mumbai Indians          Chennai Super Kings           bat   \n",
              "3   Royal Challengers Bangalore          Chennai Super Kings           bat   \n",
              "4         Kolkata Knight Riders          Chennai Super Kings           bat   \n",
              "5           Chennai Super Kings               Mumbai Indians           bat   \n",
              "6         Kolkata Knight Riders        Kolkata Knight Riders         field   \n",
              "7           Chennai Super Kings          Chennai Super Kings         field   \n",
              "8   Royal Challengers Bangalore          Sunrisers Hyderabad           bat   \n",
              "9        Rising Pune Supergiant               Mumbai Indians           bat   \n",
              "10          Chennai Super Kings          Chennai Super Kings         field   \n",
              "11          Chennai Super Kings               Mumbai Indians           bat   \n",
              "\n",
              "    result  dl_applied                 winner  win_by_runs  win_by_wickets  \\\n",
              "0   normal           0       Rajasthan Royals            0               3   \n",
              "1   normal           0        Deccan Chargers            6               0   \n",
              "2   normal           0    Chennai Super Kings           22               0   \n",
              "3   normal           0    Chennai Super Kings           58               0   \n",
              "4   normal           0  Kolkata Knight Riders            0               5   \n",
              "5   normal           0         Mumbai Indians           23               0   \n",
              "6   normal           0  Kolkata Knight Riders            0               3   \n",
              "7   normal           0         Mumbai Indians           41               0   \n",
              "8   normal           0    Sunrisers Hyderabad            8               0   \n",
              "9   normal           0         Mumbai Indians            1               0   \n",
              "10  normal           0    Chennai Super Kings            0               8   \n",
              "11  normal           0         Mumbai Indians            1               0   \n",
              "\n",
              "   player_of_match                                      venue  \n",
              "0        YK Pathan                 Dr DY Patil Sports Academy  \n",
              "1         A Kumble                      New Wanderers Stadium  \n",
              "2         SK Raina                 Dr DY Patil Sports Academy  \n",
              "3          M Vijay            MA Chidambaram Stadium, Chepauk  \n",
              "4         MS Bisla            MA Chidambaram Stadium, Chepauk  \n",
              "5       KA Pollard                               Eden Gardens  \n",
              "6        MK Pandey                      M Chinnaswamy Stadium  \n",
              "7        RG Sharma                               Eden Gardens  \n",
              "8      BCJ Cutting                      M Chinnaswamy Stadium  \n",
              "9        KH Pandya  Rajiv Gandhi International Stadium, Uppal  \n",
              "10       SR Watson                           Wankhede Stadium  \n",
              "11       JJ Bumrah         Rajiv Gandhi Intl. Cricket Stadium  "
            ]
          },
          "metadata": {
            "tags": []
          },
          "execution_count": 62
        }
      ]
    },
    {
      "cell_type": "code",
      "metadata": {
        "id": "PpN2FdvHZdje",
        "outputId": "b3396766-7769-42df-9f6d-a6849b87468f"
      },
      "source": [
        "final_match_df['winner'].value_counts()"
      ],
      "execution_count": null,
      "outputs": [
        {
          "output_type": "execute_result",
          "data": {
            "text/plain": [
              "Mumbai Indians           4\n",
              "Chennai Super Kings      3\n",
              "Kolkata Knight Riders    2\n",
              "Rajasthan Royals         1\n",
              "Sunrisers Hyderabad      1\n",
              "Deccan Chargers          1\n",
              "Name: winner, dtype: int64"
            ]
          },
          "metadata": {
            "tags": []
          },
          "execution_count": 63
        }
      ]
    },
    {
      "cell_type": "code",
      "metadata": {
        "id": "jpa2_PRgZdje",
        "outputId": "6f6baad1-f25e-43e9-fd03-04f1281d2a38"
      },
      "source": [
        "plt.title('Count of Season Winners',fontweight=800)\n",
        "sns.countplot(x=final_match_df['winner'],palette=['#ECC5F2','#1C2C46','#FFFF48','#F0E1A1','#15244C','#D4480B']);"
      ],
      "execution_count": null,
      "outputs": [
        {
          "output_type": "display_data",
          "data": {
            "image/png": "[encoded data removed]",
            "text/plain": [
              "<Figure size 1080x540 with 1 Axes>"
            ]
          },
          "metadata": {
            "tags": []
          }
        }
      ]
    },
    {
      "cell_type": "code",
      "metadata": {
        "id": "NkqMWxjSZdjf"
      },
      "source": [
        "final_match_team = pd.concat([final_match_df['team1'],final_match_df['team2']])"
      ],
      "execution_count": null,
      "outputs": []
    },
    {
      "cell_type": "code",
      "metadata": {
        "id": "9W04dUMuZdjf",
        "outputId": "4e58bffe-0413-4e56-9441-cb7ac8136a01"
      },
      "source": [
        "final_match_team.value_counts()"
      ],
      "execution_count": null,
      "outputs": [
        {
          "output_type": "execute_result",
          "data": {
            "text/plain": [
              "Chennai Super Kings            8\n",
              "Mumbai Indians                 5\n",
              "Royal Challengers Bangalore    3\n",
              "Sunrisers Hyderabad            2\n",
              "Kolkata Knight Riders          2\n",
              "Rajasthan Royals               1\n",
              "Kings XI Punjab                1\n",
              "Deccan Chargers                1\n",
              "Rising Pune Supergiant         1\n",
              "dtype: int64"
            ]
          },
          "metadata": {
            "tags": []
          },
          "execution_count": 67
        }
      ]
    },
    {
      "cell_type": "code",
      "metadata": {
        "id": "I1p_VcOZZdjf",
        "outputId": "ae03677c-38e1-42e2-ebed-151d1ab6cda9"
      },
      "source": [
        "plt.title('Count of Finalists in IPL',fontweight=800)\n",
        "plt.xlabel('Teams')\n",
        "sns.countplot(x=final_match_team,palette=['#FFFF48','#1C2C46','#15244C','#CD202D','#D4480B','#ECC5F2','#EF2920','#F0E1A1','#E776CA'])\n",
        "plt.ylabel('Final Matches Played')\n",
        "plt.xticks(rotation=90);"
      ],
      "execution_count": null,
      "outputs": [
        {
          "output_type": "display_data",
          "data": {
            "image/png": "[encoded data removed]",
            "text/plain": [
              "<Figure size 1080x540 with 1 Axes>"
            ]
          },
          "metadata": {
            "tags": []
          }
        }
      ]
    },
    {
      "cell_type": "markdown",
      "metadata": {
        "id": "eu6t3cgNZdjg"
      },
      "source": [
        "### Q5. Who are the top 10 players with most number of Man of the Match ?"
      ]
    },
    {
      "cell_type": "code",
      "metadata": {
        "id": "xxomLbz4Zdjg",
        "outputId": "d06bac09-72c8-4e08-da0a-6e30eca9ee6a"
      },
      "source": [
        "mom_count =matches_df.groupby('player_of_match')[['id']].count()\n",
        "mom_count = mom_count.sort_values('id',ascending=False).head(10)\n",
        "mom_count"
      ],
      "execution_count": null,
      "outputs": [
        {
          "output_type": "execute_result",
          "data": {
            "text/html": [
              "<div>\n",
              "<style scoped>\n",
              "    .dataframe tbody tr th:only-of-type {\n",
              "        vertical-align: middle;\n",
              "    }\n",
              "\n",
              "    .dataframe tbody tr th {\n",
              "        vertical-align: top;\n",
              "    }\n",
              "\n",
              "    .dataframe thead th {\n",
              "        text-align: right;\n",
              "    }\n",
              "</style>\n",
              "<table border=\"1\" class=\"dataframe\">\n",
              "  <thead>\n",
              "    <tr style=\"text-align: right;\">\n",
              "      <th></th>\n",
              "      <th>id</th>\n",
              "    </tr>\n",
              "    <tr>\n",
              "      <th>player_of_match</th>\n",
              "      <th></th>\n",
              "    </tr>\n",
              "  </thead>\n",
              "  <tbody>\n",
              "    <tr>\n",
              "      <th>CH Gayle</th>\n",
              "      <td>21</td>\n",
              "    </tr>\n",
              "    <tr>\n",
              "      <th>AB de Villiers</th>\n",
              "      <td>20</td>\n",
              "    </tr>\n",
              "    <tr>\n",
              "      <th>MS Dhoni</th>\n",
              "      <td>17</td>\n",
              "    </tr>\n",
              "    <tr>\n",
              "      <th>DA Warner</th>\n",
              "      <td>17</td>\n",
              "    </tr>\n",
              "    <tr>\n",
              "      <th>RG Sharma</th>\n",
              "      <td>17</td>\n",
              "    </tr>\n",
              "    <tr>\n",
              "      <th>YK Pathan</th>\n",
              "      <td>16</td>\n",
              "    </tr>\n",
              "    <tr>\n",
              "      <th>SR Watson</th>\n",
              "      <td>15</td>\n",
              "    </tr>\n",
              "    <tr>\n",
              "      <th>SK Raina</th>\n",
              "      <td>14</td>\n",
              "    </tr>\n",
              "    <tr>\n",
              "      <th>G Gambhir</th>\n",
              "      <td>13</td>\n",
              "    </tr>\n",
              "    <tr>\n",
              "      <th>MEK Hussey</th>\n",
              "      <td>12</td>\n",
              "    </tr>\n",
              "  </tbody>\n",
              "</table>\n",
              "</div>"
            ],
            "text/plain": [
              "                 id\n",
              "player_of_match    \n",
              "CH Gayle         21\n",
              "AB de Villiers   20\n",
              "MS Dhoni         17\n",
              "DA Warner        17\n",
              "RG Sharma        17\n",
              "YK Pathan        16\n",
              "SR Watson        15\n",
              "SK Raina         14\n",
              "G Gambhir        13\n",
              "MEK Hussey       12"
            ]
          },
          "metadata": {
            "tags": []
          },
          "execution_count": 69
        }
      ]
    },
    {
      "cell_type": "code",
      "metadata": {
        "id": "ckww6HKiZdjg",
        "outputId": "6a8df57a-1df3-47a5-bdeb-acfe897694f1"
      },
      "source": [
        "plt.title(\"Top 10 Player with Most Man of the Match Awards\",fontweight=800 )\n",
        "sns.barplot(x=mom_count.index,y=mom_count.id, alpha=0.6);\n",
        "plt.xticks(rotation=90)\n",
        "plt.yticks(ticks=np.arange(0,25,5))\n",
        "plt.ylabel('No. of Awards')\n",
        "plt.xlabel('Players');"
      ],
      "execution_count": null,
      "outputs": [
        {
          "output_type": "display_data",
          "data": {
            "image/png": "[encoded data removed]",
            "text/plain": [
              "<Figure size 1080x540 with 1 Axes>"
            ]
          },
          "metadata": {
            "tags": []
          }
        }
      ]
    },
    {
      "cell_type": "markdown",
      "metadata": {
        "id": "h0xdl_CRZdjg"
      },
      "source": [
        "### Q6. Why number of matches are greater in 2011,2012 and 2013 ?"
      ]
    },
    {
      "cell_type": "markdown",
      "metadata": {
        "id": "Hslmf8XhZdjg"
      },
      "source": [
        "This might be due to more teams in these years as compared to other years. Thus we have to find the number of teams played in each season"
      ]
    },
    {
      "cell_type": "code",
      "metadata": {
        "id": "LO1aol8rZdjg",
        "outputId": "152a9e11-c818-4edc-835e-7fc7e010e702"
      },
      "source": [
        "team_count=[];\n",
        "for i in range(2008,2020):\n",
        "    team_count.append(matches_df[matches_df.season == i].team1.unique().shape[0])\n",
        "\n",
        "sns.barplot(x=np.arange(2008,2020),y=team_count)\n",
        "plt.title('Number of teams in each season', fontweight=800)\n",
        "plt.xlabel('Seasons')\n",
        "plt.ylabel('No. of teams')\n",
        "plt.yticks(np.arange(0,11));"
      ],
      "execution_count": null,
      "outputs": [
        {
          "output_type": "display_data",
          "data": {
            "image/png": "[encoded data removed]",
            "text/plain": [
              "<Figure size 1080x540 with 1 Axes>"
            ]
          },
          "metadata": {
            "tags": []
          }
        }
      ]
    },
    {
      "cell_type": "markdown",
      "metadata": {
        "id": "UMcCfPosZdjh"
      },
      "source": [
        "<b>The number of teams in 2011,2013 and 2013 are 10,9 and 9 respectively which is greater than number of teams in other seasons which is 8.</b>"
      ]
    },
    {
      "cell_type": "code",
      "metadata": {
        "id": "UxTeQuVsZdjh"
      },
      "source": [
        "import jovian"
      ],
      "execution_count": null,
      "outputs": []
    },
    {
      "cell_type": "code",
      "metadata": {
        "id": "505A-IQ1Zdjh",
        "outputId": "973ffbb8-48e0-46c7-fa4e-db1327185115"
      },
      "source": [
        "jovian.commit()"
      ],
      "execution_count": null,
      "outputs": [
        {
          "output_type": "display_data",
          "data": {
            "application/javascript": [
              "window.require && require([\"base/js/namespace\"],function(Jupyter){Jupyter.notebook.save_checkpoint()})"
            ],
            "text/plain": [
              "<IPython.core.display.Javascript object>"
            ]
          },
          "metadata": {
            "tags": []
          }
        },
        {
          "output_type": "stream",
          "text": [
            "[jovian] Updating notebook \"sinhaabhiraj0/zerotopandas-course-project-starter\" on https://jovian.ai\u001b[0m\n",
            "[jovian] Committed successfully! https://jovian.ai/sinhaabhiraj0/zerotopandas-course-project-starter\u001b[0m\n"
          ],
          "name": "stdout"
        },
        {
          "output_type": "execute_result",
          "data": {
            "text/plain": [
              "'https://jovian.ai/sinhaabhiraj0/zerotopandas-course-project-starter'"
            ]
          },
          "metadata": {
            "tags": []
          },
          "execution_count": 73
        }
      ]
    },
    {
      "cell_type": "markdown",
      "metadata": {
        "id": "DAihEE2HZdjh"
      },
      "source": [
        "## Section-4: Summary"
      ]
    },
    {
      "cell_type": "markdown",
      "metadata": {
        "id": "WTCHTqLNZdjh"
      },
      "source": [
        "The above analysis on matches.csv can be summarised as below:\n",
        "\n",
        "1. The teams in 2011,2012 and 2013 are greater than other seasons due to which matches played in those seasons are greater.\n",
        "2. Even though Mumbai Indians have greater number of wins but winning percentage of Chennai Super King is higher than Mumbai Indians. But it may also be noted that when comparing the head to head matches between Mumbai Indians and Chennai Super King, Mumbai Indians have won most matches.\n",
        "3. Chris Gayle has received highest number of Man of the Match Awards.\n",
        "4. Chennai Super King entered into final matches of the IPL most of the times.\n",
        "5. Out of 756 matches played in IPL till 2019\n",
        "    - In 350 matches the toss winner wins the match\n",
        "    - In 350 matches the team batting first wins the match\n",
        "   It excludes cases where winner is decided by Super Over.\n",
        "6. Mumbai has hosted most number of matches in the IPL"
      ]
    },
    {
      "cell_type": "markdown",
      "metadata": {
        "id": "CKWgHz6eZdji"
      },
      "source": [
        "## References and Future Work\n",
        "\n",
        "The dataset for IPL(2008-2019) consisted two .csv files i.e matches.csv and deliveries.csv. Only matches.csv is considered in this project for the analysis. For data related to scores, runs by individuals, wickets etc can be retrieved from deliveries.csv. Moreover matches.csv and deliveries.csv can be merged with respect to their `match id` and interesting data can be explored from the merged data."
      ]
    },
    {
      "cell_type": "markdown",
      "metadata": {
        "id": "1Abei0Q7Zdji"
      },
      "source": [
        "### References\n",
        "\n",
        "Check out the various resource used in this project:\n",
        "\n",
        "- ZerotoPandas Tutorial by JovianML- [Data Analysis with Python: Zero to Pandas](https://jovian.ml/learn/data-analysis-with-python-zero-to-pandas)\n",
        "- Numpy Documentation: https://numpy.org/devdocs/user/quickstart.html\n",
        "- User guide for Pandas: https://pandas.pydata.org/docs/user_guide/index.html\n",
        "- Seaborn gallery: https://seaborn.pydata.org/examples/index.html\n",
        "- Matplotlib gallery: https://matplotlib.org/3.1.1/gallery/index.html\n",
        "- Indian Premier League 2008-2019 dataset https://www.kaggle.com/nowke9/ipldata"
      ]
    },
    {
      "cell_type": "code",
      "metadata": {
        "id": "ofEVQZk4Zdji"
      },
      "source": [
        "import jovian"
      ],
      "execution_count": null,
      "outputs": []
    },
    {
      "cell_type": "code",
      "metadata": {
        "scrolled": true,
        "id": "VMZ-oxsnZdji",
        "outputId": "f2e86f4c-7a67-4941-aa69-0ff1fcc698fe"
      },
      "source": [
        "jovian.commit()"
      ],
      "execution_count": null,
      "outputs": [
        {
          "output_type": "display_data",
          "data": {
            "application/javascript": [
              "window.require && require([\"base/js/namespace\"],function(Jupyter){Jupyter.notebook.save_checkpoint()})"
            ],
            "text/plain": [
              "<IPython.core.display.Javascript object>"
            ]
          },
          "metadata": {
            "tags": []
          }
        },
        {
          "output_type": "stream",
          "text": [
            "[jovian] Updating notebook \"sinhaabhiraj0/zerotopandas-course-project-starter\" on https://jovian.ai\u001b[0m\n",
            "[jovian] Committed successfully! https://jovian.ai/sinhaabhiraj0/zerotopandas-course-project-starter\u001b[0m\n"
          ],
          "name": "stdout"
        },
        {
          "output_type": "execute_result",
          "data": {
            "text/plain": [
              "'https://jovian.ai/sinhaabhiraj0/zerotopandas-course-project-starter'"
            ]
          },
          "metadata": {
            "tags": []
          },
          "execution_count": 77
        }
      ]
    },
    {
      "cell_type": "code",
      "metadata": {
        "id": "6tfn5SzNZdji",
        "outputId": "97fcac35-0c1c-4ead-aab0-460a2f055e3b"
      },
      "source": [
        "jovian.submit(assignment=\"zero-to-pandas-project\")"
      ],
      "execution_count": null,
      "outputs": [
        {
          "output_type": "display_data",
          "data": {
            "application/javascript": [
              "window.require && require([\"base/js/namespace\"],function(Jupyter){Jupyter.notebook.save_checkpoint()})"
            ],
            "text/plain": [
              "<IPython.core.display.Javascript object>"
            ]
          },
          "metadata": {
            "tags": []
          }
        },
        {
          "output_type": "stream",
          "text": [
            "[jovian] Updating notebook \"sinhaabhiraj0/zerotopandas-course-project-starter\" on https://jovian.ai\u001b[0m\n",
            "[jovian] Committed successfully! https://jovian.ai/sinhaabhiraj0/zerotopandas-course-project-starter\u001b[0m\n",
            "[jovian] Submitting assignment..\u001b[0m\n",
            "[jovian] Verify your submission at https://jovian.ai/learn/data-analysis-with-python-zero-to-pandas/assignment/course-project\u001b[0m\n"
          ],
          "name": "stdout"
        }
      ]
    },
    {
      "cell_type": "code",
      "metadata": {
        "id": "QWvNFG7qZdjj"
      },
      "source": [
        ""
      ],
      "execution_count": null,
      "outputs": []
    }
  ]
}